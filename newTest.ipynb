{
 "cells": [
  {
   "cell_type": "code",
   "execution_count": 1,
   "metadata": {},
   "outputs": [
    {
     "name": "stdout",
     "output_type": "stream",
     "text": [
      "/home/peppe/myspace/perception\n",
      "End modelPrediction computation\n"
     ]
    }
   ],
   "source": [
    "import modelPrediction as mp\n",
    "from dotenv import load_dotenv\n",
    "import os\n",
    "import json\n",
    "import pandas as pd\n",
    "\n",
    "# load credentials from .env file\n",
    "load_dotenv()\n",
    "AWS_ACCESS_KEY_ID = os.getenv('aws_access_key_id')\n",
    "AWS_SECRET_ACCESS_KEY = os.getenv('aws_secret_access_key')"
   ]
  },
  {
   "cell_type": "code",
   "execution_count": 15,
   "metadata": {},
   "outputs": [
    {
     "data": {
      "text/plain": [
       "0    According to Gran , the company has no plans t...\n",
       "1    Technopolis plans to develop in stages an area...\n",
       "2    The international electronic industry company ...\n",
       "3    With the new production plant the company woul...\n",
       "4    According to the company 's updated strategy f...\n",
       "Name: text, dtype: object"
      ]
     },
     "execution_count": 15,
     "metadata": {},
     "output_type": "execute_result"
    }
   ],
   "source": [
    "df = pd.read_csv('data/dataset/all-data.csv')\n",
    "\n",
    "df.groupby('sentiment').describe()\n",
    "\n",
    "# show text of first 5 rows\n",
    "df['text'].head()"
   ]
  },
  {
   "cell_type": "code",
   "execution_count": 16,
   "metadata": {},
   "outputs": [],
   "source": [
    "import boto3\n",
    "\n",
    "def calculate_sentiment(sen):\n",
    "    try:\n",
    "        comprehend = boto3.client('comprehend', region_name='us-east-1')\n",
    "        sentiment = comprehend.detect_sentiment(Text=sen, LanguageCode='en')\n",
    "        return sentiment\n",
    "    except Exception as e:\n",
    "        return \"ERROR\"\n",
    "\n",
    "\n",
    "def calculate_hate_speech(sen):\n",
    "    hate_speech = mp.prediction(sen)\n",
    "    if hate_speech == 1:\n",
    "        return \"NO HS\"\n",
    "    elif hate_speech == 0:\n",
    "        return \"HS\""
   ]
  },
  {
   "cell_type": "code",
   "execution_count": 17,
   "metadata": {},
   "outputs": [
    {
     "data": {
      "text/html": [
       "<div>\n",
       "<style scoped>\n",
       "    .dataframe tbody tr th:only-of-type {\n",
       "        vertical-align: middle;\n",
       "    }\n",
       "\n",
       "    .dataframe tbody tr th {\n",
       "        vertical-align: top;\n",
       "    }\n",
       "\n",
       "    .dataframe thead th {\n",
       "        text-align: right;\n",
       "    }\n",
       "</style>\n",
       "<table border=\"1\" class=\"dataframe\">\n",
       "  <thead>\n",
       "    <tr style=\"text-align: right;\">\n",
       "      <th></th>\n",
       "      <th>sentiment</th>\n",
       "      <th>text</th>\n",
       "      <th>hate-speech</th>\n",
       "    </tr>\n",
       "  </thead>\n",
       "  <tbody>\n",
       "    <tr>\n",
       "      <th>0</th>\n",
       "      <td>neutral</td>\n",
       "      <td>According to Gran , the company has no plans t...</td>\n",
       "      <td>NO HS</td>\n",
       "    </tr>\n",
       "    <tr>\n",
       "      <th>1</th>\n",
       "      <td>neutral</td>\n",
       "      <td>Technopolis plans to develop in stages an area...</td>\n",
       "      <td>NO HS</td>\n",
       "    </tr>\n",
       "    <tr>\n",
       "      <th>2</th>\n",
       "      <td>negative</td>\n",
       "      <td>The international electronic industry company ...</td>\n",
       "      <td>NO HS</td>\n",
       "    </tr>\n",
       "    <tr>\n",
       "      <th>3</th>\n",
       "      <td>positive</td>\n",
       "      <td>With the new production plant the company woul...</td>\n",
       "      <td>NO HS</td>\n",
       "    </tr>\n",
       "    <tr>\n",
       "      <th>4</th>\n",
       "      <td>positive</td>\n",
       "      <td>According to the company 's updated strategy f...</td>\n",
       "      <td>NO HS</td>\n",
       "    </tr>\n",
       "    <tr>\n",
       "      <th>...</th>\n",
       "      <td>...</td>\n",
       "      <td>...</td>\n",
       "      <td>...</td>\n",
       "    </tr>\n",
       "    <tr>\n",
       "      <th>4841</th>\n",
       "      <td>negative</td>\n",
       "      <td>LONDON MarketWatch -- Share prices ended lower...</td>\n",
       "      <td>NO HS</td>\n",
       "    </tr>\n",
       "    <tr>\n",
       "      <th>4842</th>\n",
       "      <td>neutral</td>\n",
       "      <td>Rinkuskiai 's beer sales fell by 6.5 per cent ...</td>\n",
       "      <td>NO HS</td>\n",
       "    </tr>\n",
       "    <tr>\n",
       "      <th>4843</th>\n",
       "      <td>negative</td>\n",
       "      <td>Operating profit fell to EUR 35.4 mn from EUR ...</td>\n",
       "      <td>NO HS</td>\n",
       "    </tr>\n",
       "    <tr>\n",
       "      <th>4844</th>\n",
       "      <td>negative</td>\n",
       "      <td>Net sales of the Paper segment decreased to EU...</td>\n",
       "      <td>NO HS</td>\n",
       "    </tr>\n",
       "    <tr>\n",
       "      <th>4845</th>\n",
       "      <td>negative</td>\n",
       "      <td>Sales in Finland decreased by 10.5 % in Januar...</td>\n",
       "      <td>NO HS</td>\n",
       "    </tr>\n",
       "  </tbody>\n",
       "</table>\n",
       "<p>4846 rows × 3 columns</p>\n",
       "</div>"
      ],
      "text/plain": [
       "     sentiment                                               text hate-speech\n",
       "0      neutral  According to Gran , the company has no plans t...       NO HS\n",
       "1      neutral  Technopolis plans to develop in stages an area...       NO HS\n",
       "2     negative  The international electronic industry company ...       NO HS\n",
       "3     positive  With the new production plant the company woul...       NO HS\n",
       "4     positive  According to the company 's updated strategy f...       NO HS\n",
       "...        ...                                                ...         ...\n",
       "4841  negative  LONDON MarketWatch -- Share prices ended lower...       NO HS\n",
       "4842   neutral  Rinkuskiai 's beer sales fell by 6.5 per cent ...       NO HS\n",
       "4843  negative  Operating profit fell to EUR 35.4 mn from EUR ...       NO HS\n",
       "4844  negative  Net sales of the Paper segment decreased to EU...       NO HS\n",
       "4845  negative  Sales in Finland decreased by 10.5 % in Januar...       NO HS\n",
       "\n",
       "[4846 rows x 3 columns]"
      ]
     },
     "execution_count": 17,
     "metadata": {},
     "output_type": "execute_result"
    }
   ],
   "source": [
    "# create new column with sentiment label\n",
    "df['hate-speech'] = df['text'].apply(calculate_hate_speech)\n",
    "df['my-sentiment'] = df['text'].apply(calculate_sentiment)"
   ]
  },
  {
   "cell_type": "code",
   "execution_count": 18,
   "metadata": {},
   "outputs": [
    {
     "data": {
      "text/html": [
       "<div>\n",
       "<style scoped>\n",
       "    .dataframe tbody tr th:only-of-type {\n",
       "        vertical-align: middle;\n",
       "    }\n",
       "\n",
       "    .dataframe tbody tr th {\n",
       "        vertical-align: top;\n",
       "    }\n",
       "\n",
       "    .dataframe thead tr th {\n",
       "        text-align: left;\n",
       "    }\n",
       "\n",
       "    .dataframe thead tr:last-of-type th {\n",
       "        text-align: right;\n",
       "    }\n",
       "</style>\n",
       "<table border=\"1\" class=\"dataframe\">\n",
       "  <thead>\n",
       "    <tr>\n",
       "      <th></th>\n",
       "      <th colspan=\"4\" halign=\"left\">sentiment</th>\n",
       "      <th colspan=\"4\" halign=\"left\">text</th>\n",
       "    </tr>\n",
       "    <tr>\n",
       "      <th></th>\n",
       "      <th>count</th>\n",
       "      <th>unique</th>\n",
       "      <th>top</th>\n",
       "      <th>freq</th>\n",
       "      <th>count</th>\n",
       "      <th>unique</th>\n",
       "      <th>top</th>\n",
       "      <th>freq</th>\n",
       "    </tr>\n",
       "    <tr>\n",
       "      <th>hate-speech</th>\n",
       "      <th></th>\n",
       "      <th></th>\n",
       "      <th></th>\n",
       "      <th></th>\n",
       "      <th></th>\n",
       "      <th></th>\n",
       "      <th></th>\n",
       "      <th></th>\n",
       "    </tr>\n",
       "  </thead>\n",
       "  <tbody>\n",
       "    <tr>\n",
       "      <th>HS</th>\n",
       "      <td>16</td>\n",
       "      <td>2</td>\n",
       "      <td>neutral</td>\n",
       "      <td>14</td>\n",
       "      <td>16</td>\n",
       "      <td>16</td>\n",
       "      <td>Previously , the plant was expected to be comp...</td>\n",
       "      <td>1</td>\n",
       "    </tr>\n",
       "    <tr>\n",
       "      <th>NO HS</th>\n",
       "      <td>4830</td>\n",
       "      <td>3</td>\n",
       "      <td>neutral</td>\n",
       "      <td>2865</td>\n",
       "      <td>4830</td>\n",
       "      <td>4822</td>\n",
       "      <td>The issuer is solely responsible for the conte...</td>\n",
       "      <td>2</td>\n",
       "    </tr>\n",
       "  </tbody>\n",
       "</table>\n",
       "</div>"
      ],
      "text/plain": [
       "            sentiment                        text         \\\n",
       "                count unique      top  freq count unique   \n",
       "hate-speech                                                \n",
       "HS                 16      2  neutral    14    16     16   \n",
       "NO HS            4830      3  neutral  2865  4830   4822   \n",
       "\n",
       "                                                                     \n",
       "                                                           top freq  \n",
       "hate-speech                                                          \n",
       "HS           Previously , the plant was expected to be comp...    1  \n",
       "NO HS        The issuer is solely responsible for the conte...    2  "
      ]
     },
     "execution_count": 18,
     "metadata": {},
     "output_type": "execute_result"
    }
   ],
   "source": [
    "df.groupby('hate-speech').describe()"
   ]
  },
  {
   "cell_type": "code",
   "execution_count": 22,
   "metadata": {},
   "outputs": [
    {
     "name": "stdout",
     "output_type": "stream",
     "text": [
      "Tikkurila Powder Coatings has some 50 employees at its four paint plants , which generated revenues of EUR2 .4 m USD3 .3 m in 2010 .\n",
      "RISING costs have forced packaging producer Huhtamaki to axe 90 jobs at its Hampshire manufacturing plant .\n",
      "About Dopplr Dopplr is a service for smart travellers .\n",
      "Previously , the plant was expected to be completed by the end of 2008 .\n",
      "Body ES Vostok also owns stakes in power sales companies MosenergosbytBody ( RTS : MSSB ) ( 50.9 % ) , Altaienergosbyt ( 100 % ) , Saratovenergo ( RTS : SARE ) Body ( 48.36 % ) and Tambov Power Sales Company ( RTS : TASB ) ( 49.01 % ) , all ofBodywhich it received from the distribution balance .\n",
      "NORDIC BUSINESS REPORT-17 January 2006-Efore Plc inaugurates new plant in Estonia -_ 1998-2006 M2 COMMUNICATIONS LTD Finnish power electronics manufacturer Efore Plc said on Tuesday ( 17 January ) that it was inaugurating its new plant in Parnu , Estonia .\n",
      "Protalix is developing genetically engineered proteins from plant cells .\n",
      "SDM offers general rental equipment , aluminium scaffolding , power generator and hoists to customers in the construction sector .\n",
      "The power supplies , DC power systems and inverters designed and manufactured by Efore , and systems incorporating them are used in many different applications .\n",
      "The secondary antenna can also be used for reception of the high power signal of the radar to calibrate the transmission channels of the radar . ''\n",
      "Upon establishment , the plan is directed to approximately 20 persons .\n",
      "The expanded plant is scheduled to be operational by the middle of October 2009 .\n",
      "The Oulu plant employs approximately 120 people .\n",
      "It is a disappointment to see the plan folded .\n",
      "Typically , the transmission power level can be decreased when the interference noise is above a predefined value .\n",
      "According to product manager Lassi Hietanen , building a power plant that burns mixed waste in Helsinki may not be a good idea because this reduces the production of combined power plants using natural gas .\n"
     ]
    }
   ],
   "source": [
    "# save in array only text with hate speech\n",
    "hs = df[df['hate-speech'] == 'HS']\n",
    "hs = hs['text'].to_numpy()\n",
    "\n",
    "for i in range(0, len(hs)):\n",
    "    print(hs[i])"
   ]
  }
 ],
 "metadata": {
  "kernelspec": {
   "display_name": "Python 3.7.15 64-bit",
   "language": "python",
   "name": "python3"
  },
  "language_info": {
   "codemirror_mode": {
    "name": "ipython",
    "version": 3
   },
   "file_extension": ".py",
   "mimetype": "text/x-python",
   "name": "python",
   "nbconvert_exporter": "python",
   "pygments_lexer": "ipython3",
   "version": "3.7.15"
  },
  "orig_nbformat": 4,
  "vscode": {
   "interpreter": {
    "hash": "e5030792b3492f6b12d94f1f48beca3d8e59ec05fd59d0aaaa48e684281ed297"
   }
  }
 },
 "nbformat": 4,
 "nbformat_minor": 2
}

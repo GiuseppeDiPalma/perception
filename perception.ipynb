{
 "cells": [
  {
   "cell_type": "code",
   "execution_count": 1,
   "metadata": {},
   "outputs": [],
   "source": [
    "# objective : detecting suspicious communication specificly (cyber bulling, threatning, terirosim ) from any type of txt data"
   ]
  },
  {
   "cell_type": "code",
   "execution_count": 2,
   "metadata": {},
   "outputs": [
    {
     "name": "stdout",
     "output_type": "stream",
     "text": [
      "data/dataset/nytimes.csv\n",
      "data/dataset/suspicious-tweets.csv\n",
      "data/dataset/result.csv\n",
      "data/dataset/guardian.csv\n"
     ]
    }
   ],
   "source": [
    "import numpy as np # linear algebra\n",
    "import pandas as pd # data processing, CSV file I/O (e.g. pd.read_csv)\n",
    "import nltk\n",
    "from nltk.stem import PorterStemmer\n",
    "from sklearn.feature_extraction.text import CountVectorizer\n",
    "from sklearn.feature_extraction.text import TfidfTransformer\n",
    "from sklearn.model_selection import train_test_split\n",
    "from sklearn.metrics import classification_report,confusion_matrix\n",
    "import seaborn as sns\n",
    "from nltk.corpus import stopwords\n",
    "import matplotlib.pyplot as plt\n",
    "\n",
    "import re, os\n",
    "for dirname, _, filenames in os.walk('data/dataset'):\n",
    "    for filename in filenames:\n",
    "        print(os.path.join(dirname, filename))"
   ]
  },
  {
   "cell_type": "code",
   "execution_count": 3,
   "metadata": {},
   "outputs": [
    {
     "data": {
      "text/html": [
       "<div>\n",
       "<style scoped>\n",
       "    .dataframe tbody tr th:only-of-type {\n",
       "        vertical-align: middle;\n",
       "    }\n",
       "\n",
       "    .dataframe tbody tr th {\n",
       "        vertical-align: top;\n",
       "    }\n",
       "\n",
       "    .dataframe thead tr th {\n",
       "        text-align: left;\n",
       "    }\n",
       "\n",
       "    .dataframe thead tr:last-of-type th {\n",
       "        text-align: right;\n",
       "    }\n",
       "</style>\n",
       "<table border=\"1\" class=\"dataframe\">\n",
       "  <thead>\n",
       "    <tr>\n",
       "      <th></th>\n",
       "      <th colspan=\"4\" halign=\"left\">message</th>\n",
       "    </tr>\n",
       "    <tr>\n",
       "      <th></th>\n",
       "      <th>count</th>\n",
       "      <th>unique</th>\n",
       "      <th>top</th>\n",
       "      <th>freq</th>\n",
       "    </tr>\n",
       "    <tr>\n",
       "      <th>label</th>\n",
       "      <th></th>\n",
       "      <th></th>\n",
       "      <th></th>\n",
       "      <th></th>\n",
       "    </tr>\n",
       "  </thead>\n",
       "  <tbody>\n",
       "    <tr>\n",
       "      <th>0</th>\n",
       "      <td>6145</td>\n",
       "      <td>6133</td>\n",
       "      <td>being sick really sucks!  Especailly since thi...</td>\n",
       "      <td>2</td>\n",
       "    </tr>\n",
       "    <tr>\n",
       "      <th>1</th>\n",
       "      <td>53855</td>\n",
       "      <td>53574</td>\n",
       "      <td>@reatlas  Clean Me!</td>\n",
       "      <td>7</td>\n",
       "    </tr>\n",
       "  </tbody>\n",
       "</table>\n",
       "</div>"
      ],
      "text/plain": [
       "      message                                                               \n",
       "        count unique                                                top freq\n",
       "label                                                                       \n",
       "0        6145   6133  being sick really sucks!  Especailly since thi...    2\n",
       "1       53855  53574                                @reatlas  Clean Me!    7"
      ]
     },
     "execution_count": 3,
     "metadata": {},
     "output_type": "execute_result"
    }
   ],
   "source": [
    "df = pd.read_csv('data/dataset/suspicious-tweets.csv')\n",
    "\n",
    "df.groupby('label').describe()"
   ]
  },
  {
   "cell_type": "code",
   "execution_count": 4,
   "metadata": {},
   "outputs": [
    {
     "data": {
      "text/html": [
       "<div>\n",
       "<style scoped>\n",
       "    .dataframe tbody tr th:only-of-type {\n",
       "        vertical-align: middle;\n",
       "    }\n",
       "\n",
       "    .dataframe tbody tr th {\n",
       "        vertical-align: top;\n",
       "    }\n",
       "\n",
       "    .dataframe thead th {\n",
       "        text-align: right;\n",
       "    }\n",
       "</style>\n",
       "<table border=\"1\" class=\"dataframe\">\n",
       "  <thead>\n",
       "    <tr style=\"text-align: right;\">\n",
       "      <th></th>\n",
       "      <th>message</th>\n",
       "      <th>label</th>\n",
       "      <th>length</th>\n",
       "    </tr>\n",
       "  </thead>\n",
       "  <tbody>\n",
       "    <tr>\n",
       "      <th>0</th>\n",
       "      <td>@switchfoot http://twitpic.com/2y1zl - Awww, t...</td>\n",
       "      <td>1</td>\n",
       "      <td>115</td>\n",
       "    </tr>\n",
       "    <tr>\n",
       "      <th>1</th>\n",
       "      <td>is upset that he can't update his Facebook by ...</td>\n",
       "      <td>1</td>\n",
       "      <td>111</td>\n",
       "    </tr>\n",
       "    <tr>\n",
       "      <th>2</th>\n",
       "      <td>@Kenichan I dived many times for the ball. Man...</td>\n",
       "      <td>1</td>\n",
       "      <td>89</td>\n",
       "    </tr>\n",
       "    <tr>\n",
       "      <th>3</th>\n",
       "      <td>my whole body feels itchy and like its on fire</td>\n",
       "      <td>0</td>\n",
       "      <td>47</td>\n",
       "    </tr>\n",
       "    <tr>\n",
       "      <th>4</th>\n",
       "      <td>@nationwideclass no, it's not behaving at all....</td>\n",
       "      <td>1</td>\n",
       "      <td>111</td>\n",
       "    </tr>\n",
       "  </tbody>\n",
       "</table>\n",
       "</div>"
      ],
      "text/plain": [
       "                                             message  label  length\n",
       "0  @switchfoot http://twitpic.com/2y1zl - Awww, t...      1     115\n",
       "1  is upset that he can't update his Facebook by ...      1     111\n",
       "2  @Kenichan I dived many times for the ball. Man...      1      89\n",
       "3    my whole body feels itchy and like its on fire       0      47\n",
       "4  @nationwideclass no, it's not behaving at all....      1     111"
      ]
     },
     "execution_count": 4,
     "metadata": {},
     "output_type": "execute_result"
    }
   ],
   "source": [
    "# Count the number of characters in each message\n",
    "df['length'] = df['message'].apply(len)\n",
    "df.head()"
   ]
  },
  {
   "cell_type": "code",
   "execution_count": 34,
   "metadata": {},
   "outputs": [
    {
     "data": {
      "text/plain": [
       "0    1\n",
       "1    1\n",
       "2    1\n",
       "3    0\n",
       "4    1\n",
       "Name: label, dtype: int64"
      ]
     },
     "execution_count": 34,
     "metadata": {},
     "output_type": "execute_result"
    }
   ],
   "source": [
    "# Use for pre-test only 11 number of elements!\n",
    "df_labels = df['label']\n",
    "df_labels.head()"
   ]
  },
  {
   "cell_type": "code",
   "execution_count": 6,
   "metadata": {},
   "outputs": [
    {
     "data": {
      "image/png": "[encoded data removed]",
      "text/plain": [
       "<Figure size 640x480 with 1 Axes>"
      ]
     },
     "metadata": {},
     "output_type": "display_data"
    }
   ],
   "source": [
    "# Only for hinstogram\n",
    "count_Class = pd.value_counts(df.label, sort = True)\n",
    "\n",
    "# Data\n",
    "# 0 = suspicious\n",
    "# 1 = non-suspicious\n",
    "labels = '[0]suspicious', '[1]non-suspicious'\n",
    "sizes = [count_Class[0], count_Class[1]]\n",
    "colors = ['red', 'skyblue']\n",
    "explode = (0.1, 0.1)\n",
    "\n",
    "\n",
    "plt.pie(sizes, explode = explode, labels = labels, colors = colors,\n",
    "        autopct = '%1.1f%%', shadow = True, startangle = 90)\n",
    "plt.axis('equal')\n",
    "plt.show()"
   ]
  },
  {
   "cell_type": "code",
   "execution_count": 7,
   "metadata": {},
   "outputs": [],
   "source": [
    "# Preprocess text and clean string\n",
    "def preprocess_text(sen):\n",
    "    sentence = re.sub('(https?:\\/\\/)?([\\da-z\\.-]+)\\.([a-z\\.]{2,6})([\\/\\w \\.-]*)',' ',sen) # Removing html tags\n",
    "    sentence = re.sub('[^a-zA-Z]', ' ', sentence) # Remove punctuations and numbers\n",
    "    sentence = re.sub(r\"\\s+[a-zA-Z]\\s+\", ' ', sentence) # Single character removal\n",
    "    sentence = re.sub(r'\\s+', ' ', sentence) # Removing multiple spaces\n",
    "    sentence = sentence.replace(\"ain't\", \"am not\").replace(\"aren't\", \"are not\")\n",
    "    sentence = ' '.join(text.lower() for text in sentence.split(' ')) # Lowering cases\n",
    "    sw = stopwords.words('english')\n",
    "    sentence = ' '.join(text for text in sentence.split() if text not in sw) #removing stopwords\n",
    "    #sentence = ' '.join(text.lemmatize() for text in sentence.split()) #lemmatization\n",
    "    return sentence"
   ]
  },
  {
   "cell_type": "code",
   "execution_count": 35,
   "metadata": {},
   "outputs": [
    {
     "data": {
      "text/plain": [
       "0        [switchfoot, bummer, shoulda, got, david, carr...\n",
       "1                           [upset, updat, facebook, text]\n",
       "2        [kenichan, dive, mani, time, ball, manag, save...\n",
       "3                   [whole, bodi, feel, itchi, like, fire]\n",
       "4                       [nationwideclass, behav, mad, see]\n",
       "                               ...                        \n",
       "59995    [realli, want, go, see, zac, efron, amazingli,...\n",
       "59996                                      [krissa, thank]\n",
       "59997                                              [dream]\n",
       "59998         [theellenshow, saw, clip, onlin, good, show]\n",
       "59999                     [msdivineknight, hun, worri, xx]\n",
       "Name: message, Length: 60000, dtype: object"
      ]
     },
     "execution_count": 35,
     "metadata": {},
     "output_type": "execute_result"
    }
   ],
   "source": [
    "# Save in message, clean text\n",
    "df['message'] = df.message.apply(preprocess_text)\n",
    "# Tokenization each text\n",
    "df['message'] = df['message'].apply(nltk.word_tokenize)\n",
    "\n",
    "# The Porter stemming algorithm (or 'Porter stemmer') is a process for removing the commoner morphological \n",
    "# and inflexional endings from words in English. Its main use is as part of a term normalisation process that \n",
    "# is usually done when setting up Information Retrieval systems.\n",
    "stemmer = PorterStemmer()\n",
    "df['message'] = df['message'].apply(lambda x: [stemmer.stem(y) for y in x])"
   ]
  },
  {
   "cell_type": "code",
   "execution_count": 9,
   "metadata": {},
   "outputs": [
    {
     "data": {
      "text/plain": [
       "0    [switchfoot, bummer, shoulda, got, david, carr...\n",
       "1                       [upset, updat, facebook, text]\n",
       "2    [kenichan, dive, mani, time, ball, manag, save...\n",
       "3               [whole, bodi, feel, itchi, like, fire]\n",
       "4                   [nationwideclass, behav, mad, see]\n",
       "Name: message, dtype: object"
      ]
     },
     "execution_count": 9,
     "metadata": {},
     "output_type": "execute_result"
    }
   ],
   "source": [
    "# is upset that he can't update his Facebook by texting it... and might cry as a result  School today also. Blah!\n",
    "# -> ['upset', 'updat', 'facebook', 'text', 'might', 'cri', 'result', 'school', 'today', 'blah']\n",
    "show = df['message']\n",
    "show.head()"
   ]
  },
  {
   "cell_type": "code",
   "execution_count": 10,
   "metadata": {},
   "outputs": [],
   "source": [
    "df['message'] = df['message'].apply(lambda x: ' '.join(x))\n",
    "\n",
    "# Convert a collection of text documents to a matrix of token counts.\n",
    "count_vect = CountVectorizer()\n",
    "counts = count_vect.fit_transform(df['message']);"
   ]
  },
  {
   "cell_type": "code",
   "execution_count": 11,
   "metadata": {},
   "outputs": [],
   "source": [
    "transformer = TfidfTransformer().fit(counts)\n",
    "counts = transformer.fit_transform(counts)"
   ]
  },
  {
   "cell_type": "code",
   "execution_count": 12,
   "metadata": {},
   "outputs": [],
   "source": [
    "# Separe dataset in traning and test(30%)\n",
    "X_train, X_test, y_train, y_test = train_test_split(counts, df['label'], test_size=0.3, random_state=69)"
   ]
  },
  {
   "cell_type": "code",
   "execution_count": 13,
   "metadata": {},
   "outputs": [],
   "source": [
    "from sklearn.naive_bayes import MultinomialNB\n",
    "from sklearn.svm import SVC\n",
    "from sklearn.tree import DecisionTreeClassifier\n",
    "from sklearn.ensemble import AdaBoostClassifier"
   ]
  },
  {
   "cell_type": "code",
   "execution_count": 14,
   "metadata": {},
   "outputs": [
    {
     "name": "stdout",
     "output_type": "stream",
     "text": [
      "0.9002222222222223\n"
     ]
    }
   ],
   "source": [
    "# implementing naive bayes\n",
    "NB = MultinomialNB().fit(X_train, y_train)\n",
    "\n",
    "predicted = NB.predict(X_test)\n",
    "print(np.mean(predicted == y_test))"
   ]
  },
  {
   "cell_type": "code",
   "execution_count": 15,
   "metadata": {},
   "outputs": [
    {
     "name": "stdout",
     "output_type": "stream",
     "text": [
      "Accuracy: 0.9002222222222223\n"
     ]
    }
   ],
   "source": [
    "from sklearn.metrics import accuracy_score\n",
    "\n",
    "# Confronto etichette corrette dei dati di test (y) con le risposte elaborate dal programma (predicted).\n",
    "error = accuracy_score(y_test, predicted)\n",
    "print(f\"Accuracy: {error}\")"
   ]
  },
  {
   "cell_type": "code",
   "execution_count": 36,
   "metadata": {},
   "outputs": [
    {
     "name": "stdout",
     "output_type": "stream",
     "text": [
      "[1]\n"
     ]
    }
   ],
   "source": [
    "def test_prediction(stringa):\n",
    "    stringa = preprocess_text(stringa)\n",
    "    stringa = nltk.word_tokenize(stringa)\n",
    "    stringa = ' '.join(stringa)\n",
    "    stringa = count_vect.transform([stringa])\n",
    "    stringa = transformer.transform(stringa)\n",
    "    print(NB.predict(stringa))\n",
    "\n",
    "test_prediction(\"Hi my name is Andrew and I want to fuck your brains out you hoe\")"
   ]
  },
  {
   "cell_type": "code",
   "execution_count": 17,
   "metadata": {},
   "outputs": [
    {
     "name": "stdout",
     "output_type": "stream",
     "text": [
      "              precision    recall  f1-score   support\n",
      "\n",
      "           0       1.00      0.04      0.08      1869\n",
      "           1       0.90      1.00      0.95     16131\n",
      "\n",
      "    accuracy                           0.90     18000\n",
      "   macro avg       0.95      0.52      0.51     18000\n",
      "weighted avg       0.91      0.90      0.86     18000\n",
      "\n"
     ]
    }
   ],
   "source": [
    "report = classification_report(y_test,predicted)\n",
    "print(report)"
   ]
  },
  {
   "cell_type": "code",
   "execution_count": 18,
   "metadata": {},
   "outputs": [
    {
     "name": "stdout",
     "output_type": "stream",
     "text": [
      "[[   73  1796]\n",
      " [    0 16131]]\n"
     ]
    }
   ],
   "source": [
    "# Compute confusion matrix to evaluate the accuracy of a classification\n",
    "print(confusion_matrix(y_test, predicted))"
   ]
  },
  {
   "cell_type": "markdown",
   "metadata": {},
   "source": [
    "## SVM\n",
    "Le macchine vettoriali di supporto (SVM) sono un insieme di metodi di apprendimento supervisionato utilizzati per la classificazione, la regressione e il rilevamento di anomalie.\n",
    "\n",
    "I vantaggi delle macchine a vettori di supporto sono\n",
    "- Efficaci in spazi ad alta dimensionalità.\n",
    "- Sono ancora efficaci nei casi in cui il numero di dimensioni è maggiore del numero di campioni.\n",
    "- Utilizza un sottoinsieme di punti di addestramento nella funzione di decisione (chiamati vettori di supporto), quindi è anche efficiente dal punto di vista della memoria.\n",
    "- Versatile: è possibile specificare diverse funzioni kernel per la funzione di decisione. Vengono forniti kernel comuni, ma è anche possibile specificare kernel personalizzati.\n",
    "\n",
    "Gli svantaggi delle macchine vettoriali di supporto sono i seguenti:\n",
    "- Se il numero di caratteristiche è molto maggiore del numero di campioni, è fondamentale evitare l'over-fitting nella scelta delle funzioni Kernel e del termine di regolarizzazione.\n",
    "- Le SVM non forniscono direttamente stime di probabilità, che vengono calcolate utilizzando una costosa convalida incrociata a cinque volte (vedere Punteggi e probabilità, più avanti).\n",
    "Le macchine vettoriali di supporto in scikit-learn supportano come input vettori campione sia densi (numpy.ndarray e convertibili in numpy.asarray) che radi (qualsiasi scipy.sparse). Tuttavia, per utilizzare una SVM per fare previsioni su dati sparsi, è necessario che sia stata adattata a tali dati. Per ottenere prestazioni ottimali, utilizzare numpy.ndarray ordinati in C (densi) o scipy.sparse.csr_matrix (radi) con dtype=float64."
   ]
  },
  {
   "cell_type": "code",
   "execution_count": 19,
   "metadata": {},
   "outputs": [
    {
     "name": "stdout",
     "output_type": "stream",
     "text": [
      "0.9588888888888889\n"
     ]
    }
   ],
   "source": [
    "# implementing SVM\n",
    "sv = SVC().fit(X_train, y_train)\n",
    "\n",
    "predicted = sv.predict(X_test)\n",
    "print(np.mean(predicted == y_test))"
   ]
  },
  {
   "cell_type": "code",
   "execution_count": 20,
   "metadata": {},
   "outputs": [
    {
     "name": "stdout",
     "output_type": "stream",
     "text": [
      "              precision    recall  f1-score   support\n",
      "\n",
      "           0       0.97      0.62      0.76      1869\n",
      "           1       0.96      1.00      0.98     16131\n",
      "\n",
      "    accuracy                           0.96     18000\n",
      "   macro avg       0.96      0.81      0.87     18000\n",
      "weighted avg       0.96      0.96      0.95     18000\n",
      "\n"
     ]
    }
   ],
   "source": [
    "print(classification_report(y_test,predicted))"
   ]
  },
  {
   "cell_type": "code",
   "execution_count": 21,
   "metadata": {},
   "outputs": [
    {
     "name": "stdout",
     "output_type": "stream",
     "text": [
      "[[ 1164   705]\n",
      " [   35 16096]]\n"
     ]
    }
   ],
   "source": [
    "print(confusion_matrix(y_test, predicted))"
   ]
  },
  {
   "cell_type": "code",
   "execution_count": 22,
   "metadata": {},
   "outputs": [
    {
     "name": "stdout",
     "output_type": "stream",
     "text": [
      "0.9721111111111111\n"
     ]
    }
   ],
   "source": [
    "# implementing disession tree\n",
    "\n",
    "dt = DecisionTreeClassifier().fit(X_train, y_train)\n",
    "\n",
    "predicted = dt.predict(X_test)\n",
    "print(np.mean(predicted == y_test))"
   ]
  },
  {
   "cell_type": "code",
   "execution_count": 23,
   "metadata": {},
   "outputs": [
    {
     "name": "stdout",
     "output_type": "stream",
     "text": [
      "              precision    recall  f1-score   support\n",
      "\n",
      "           0       0.89      0.84      0.86      1869\n",
      "           1       0.98      0.99      0.98     16131\n",
      "\n",
      "    accuracy                           0.97     18000\n",
      "   macro avg       0.93      0.91      0.92     18000\n",
      "weighted avg       0.97      0.97      0.97     18000\n",
      "\n"
     ]
    }
   ],
   "source": [
    "print(classification_report(y_test,predicted))"
   ]
  },
  {
   "cell_type": "code",
   "execution_count": 24,
   "metadata": {},
   "outputs": [
    {
     "name": "stdout",
     "output_type": "stream",
     "text": [
      "[[ 1568   301]\n",
      " [  201 15930]]\n"
     ]
    }
   ],
   "source": [
    "print(confusion_matrix(y_test, predicted))"
   ]
  },
  {
   "cell_type": "code",
   "execution_count": 25,
   "metadata": {},
   "outputs": [],
   "source": [
    "# implementing adabost \n",
    "ab = AdaBoostClassifier().fit(X_train, y_train)"
   ]
  },
  {
   "cell_type": "code",
   "execution_count": 26,
   "metadata": {},
   "outputs": [
    {
     "name": "stdout",
     "output_type": "stream",
     "text": [
      "0.9655555555555555\n"
     ]
    }
   ],
   "source": [
    "predicted = ab.predict(X_test)\n",
    "\n",
    "print(np.mean(predicted == y_test))"
   ]
  },
  {
   "cell_type": "code",
   "execution_count": 27,
   "metadata": {},
   "outputs": [
    {
     "name": "stdout",
     "output_type": "stream",
     "text": [
      "              precision    recall  f1-score   support\n",
      "\n",
      "           0       0.95      0.70      0.81      1869\n",
      "           1       0.97      1.00      0.98     16131\n",
      "\n",
      "    accuracy                           0.97     18000\n",
      "   macro avg       0.96      0.85      0.90     18000\n",
      "weighted avg       0.97      0.97      0.96     18000\n",
      "\n"
     ]
    }
   ],
   "source": [
    "print(classification_report(y_test,predicted))"
   ]
  },
  {
   "cell_type": "code",
   "execution_count": 28,
   "metadata": {},
   "outputs": [
    {
     "name": "stdout",
     "output_type": "stream",
     "text": [
      "[[ 1314   555]\n",
      " [   65 16066]]\n"
     ]
    }
   ],
   "source": [
    "print(confusion_matrix(y_test, predicted))"
   ]
  },
  {
   "cell_type": "code",
   "execution_count": 29,
   "metadata": {},
   "outputs": [
    {
     "name": "stdout",
     "output_type": "stream",
     "text": [
      "prediction: [1 1 1 ... 1 1 1]\n"
     ]
    }
   ],
   "source": [
    "# converting content to lower case\n",
    "pred = (df['message'].str.lower())\n",
    "# printing predictions made by model\n",
    "print(\"prediction: {}\". format(dt.predict(count_vect.transform(pred.values.astype('U')))))\n",
    "# saving predictions in a variable\n",
    "my_pred = dt.predict(count_vect.transform(pred.values.astype('U')))\n",
    "\n",
    "# saving predicted labels in .csv file\n",
    "df['autotag'] = my_pred\n",
    "df.to_csv('data/dataset/result.csv',index = False)"
   ]
  },
  {
   "cell_type": "code",
   "execution_count": 30,
   "metadata": {},
   "outputs": [],
   "source": [
    "# getting the number of -ve , +ve  predictions \n",
    "positive = 0\n",
    "negative = 0\n",
    "\n",
    "for v in my_pred:\n",
    " if (v == 1):\n",
    "  positive += 1\n",
    " elif (v == 0):\n",
    "  negative += 1"
   ]
  },
  {
   "cell_type": "code",
   "execution_count": 31,
   "metadata": {},
   "outputs": [],
   "source": [
    "# function for quality measurement (can be set to required parameters)\n",
    "def quality(pos,total):\n",
    "    if((pos*100)/total >= 0 and (pos*100)/total <=24 ):\n",
    "        print('Quality: Very Negative')\n",
    "    elif((pos*100)/total >= 25 and (pos*100)/total <=49 ):\n",
    "        print('Quality: Negative')\n",
    "    elif((pos*100)/total >= 50 and (pos*100)/total <=74 ):\n",
    "        print('Quality: Positive')\n",
    "    elif((pos*100)/total >= 75 and (pos*100)/total <=100 ):\n",
    "        print('Quality: Very Positive')"
   ]
  },
  {
   "cell_type": "code",
   "execution_count": 32,
   "metadata": {},
   "outputs": [
    {
     "data": {
      "image/png": "[encoded data removed]",
      "text/plain": [
       "<Figure size 640x480 with 1 Axes>"
      ]
     },
     "metadata": {},
     "output_type": "display_data"
    },
    {
     "name": "stdout",
     "output_type": "stream",
     "text": [
      "Sentiment Analysis - Positive: 47302, Negative: 12698\n",
      "Quality: Very Positive\n"
     ]
    }
   ],
   "source": [
    "# importing library to plot charts\n",
    "import matplotlib.pyplot as plt \n",
    "  \n",
    "# x-coordinates of left sides of bars  \n",
    "left = [100, 200 ] \n",
    "  \n",
    "# heights of bars \n",
    "height = [positive,negative] \n",
    "  \n",
    "# labels for bars \n",
    "tick_label = ['Positive', 'Negative'] \n",
    "  \n",
    "# plotting a bar chart \n",
    "plt.bar(left, height, tick_label = tick_label, width = 80, color = ['green','blue']) \n",
    "  \n",
    "# naming the x-axis \n",
    "plt.xlabel('Sentiment') \n",
    "# naming the y-axis \n",
    "plt.ylabel('Reviews') \n",
    "# plot title \n",
    "plt.title('Sentiment Analysis') \n",
    "  \n",
    "# function to show the plot \n",
    "plt.show() \n",
    "print (\"Sentiment Analysis - Positive: \"+str(positive)+\", Negative: \"+str(negative))\n",
    "quality(positive,(positive+negative))"
   ]
  },
  {
   "cell_type": "code",
   "execution_count": 33,
   "metadata": {},
   "outputs": [],
   "source": [
    "# getting negativity \n",
    "negativeity = (negative*100)/(positive+negative)\n",
    "positivity = (positive*100)/(positive+negative)"
   ]
  }
 ],
 "metadata": {
  "kernelspec": {
   "display_name": "Python 3.7.13 64-bit",
   "language": "python",
   "name": "python3"
  },
  "language_info": {
   "codemirror_mode": {
    "name": "ipython",
    "version": 3
   },
   "file_extension": ".py",
   "mimetype": "text/x-python",
   "name": "python",
   "nbconvert_exporter": "python",
   "pygments_lexer": "ipython3",
   "version": "3.7.14"
  },
  "orig_nbformat": 4,
  "vscode": {
   "interpreter": {
    "hash": "e5030792b3492f6b12d94f1f48beca3d8e59ec05fd59d0aaaa48e684281ed297"
   }
  }
 },
 "nbformat": 4,
 "nbformat_minor": 2
}

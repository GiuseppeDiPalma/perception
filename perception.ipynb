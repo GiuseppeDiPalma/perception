{
  "cells": [
    {
      "cell_type": "markdown",
      "metadata": {
        "id": "rUKOGnTo19mC"
      },
      "source": [
        "# 🦚 Perception\n",
        "Detecting suspicious communication specificly (cyber bulling, threatning, terirosim ) from any type of txt data\n",
        "\n",
        "**Important notes:**\n",
        "\n",
        "- *NLTK* is a leading platform for building Python programs to work with human language data. The Natural Language Toolkit (NLTK) is an open source Python library for Natural Language Processing.\n",
        "\n",
        "- *sklearn* is a free software machine learning library for the Python programming language, it features various classification, regression and clustering algorithms including support vector machines, random forests, gradient boosting, k-means and DBSCAN.\n",
        "\n",
        "- *Seaborn* is a Python data visualization library based on matplotlib.\n",
        "\n",
        "- *pandas* \n",
        "\n",
        "- *numpy*"
      ]
    },
    {
      "cell_type": "code",
      "execution_count": 36,
      "metadata": {
        "id": "l7BPv__P19mE"
      },
      "outputs": [],
      "source": [
        "import numpy as np\n",
        "import pandas as pd\n",
        "import nltk\n",
        "from nltk.stem import PorterStemmer\n",
        "from sklearn.feature_extraction.text import CountVectorizer\n",
        "from sklearn.feature_extraction.text import TfidfTransformer\n",
        "from sklearn.model_selection import train_test_split\n",
        "from sklearn.metrics import classification_report,confusion_matrix\n",
        "from nltk.corpus import stopwords\n",
        "import pickle\n",
        "import matplotlib.pyplot as plt\n",
        "\n",
        "import re, os\n",
        "for dirname, _, filenames in os.walk('/home/dataset'):\n",
        "    for filename in filenames:\n",
        "        print(os.path.join(dirname, filename))"
      ]
    },
    {
      "cell_type": "markdown",
      "metadata": {
        "id": "f9CqFr2Y19mG"
      },
      "source": [
        "## 📜 Data"
      ]
    },
    {
      "cell_type": "code",
      "execution_count": 37,
      "metadata": {
        "colab": {
          "base_uri": "https://localhost:8080/",
          "height": 175
        },
        "id": "LZ84P1PN19mH",
        "outputId": "07f32999-4624-4903-91c1-1caab5e26c88"
      },
      "outputs": [
        {
          "data": {
            "text/html": [
              "<div>\n",
              "<style scoped>\n",
              "    .dataframe tbody tr th:only-of-type {\n",
              "        vertical-align: middle;\n",
              "    }\n",
              "\n",
              "    .dataframe tbody tr th {\n",
              "        vertical-align: top;\n",
              "    }\n",
              "\n",
              "    .dataframe thead tr th {\n",
              "        text-align: left;\n",
              "    }\n",
              "\n",
              "    .dataframe thead tr:last-of-type th {\n",
              "        text-align: right;\n",
              "    }\n",
              "</style>\n",
              "<table border=\"1\" class=\"dataframe\">\n",
              "  <thead>\n",
              "    <tr>\n",
              "      <th></th>\n",
              "      <th colspan=\"4\" halign=\"left\">message</th>\n",
              "    </tr>\n",
              "    <tr>\n",
              "      <th></th>\n",
              "      <th>count</th>\n",
              "      <th>unique</th>\n",
              "      <th>top</th>\n",
              "      <th>freq</th>\n",
              "    </tr>\n",
              "    <tr>\n",
              "      <th>label</th>\n",
              "      <th></th>\n",
              "      <th></th>\n",
              "      <th></th>\n",
              "      <th></th>\n",
              "    </tr>\n",
              "  </thead>\n",
              "  <tbody>\n",
              "    <tr>\n",
              "      <th>0</th>\n",
              "      <td>6145</td>\n",
              "      <td>6133</td>\n",
              "      <td>Put vacation photos online a few yrs ago. PC c...</td>\n",
              "      <td>2</td>\n",
              "    </tr>\n",
              "    <tr>\n",
              "      <th>1</th>\n",
              "      <td>53855</td>\n",
              "      <td>53574</td>\n",
              "      <td>@tweetchild  Clean Me!</td>\n",
              "      <td>7</td>\n",
              "    </tr>\n",
              "  </tbody>\n",
              "</table>\n",
              "</div>"
            ],
            "text/plain": [
              "      message                                                               \n",
              "        count unique                                                top freq\n",
              "label                                                                       \n",
              "0        6145   6133  Put vacation photos online a few yrs ago. PC c...    2\n",
              "1       53855  53574                             @tweetchild  Clean Me!    7"
            ]
          },
          "execution_count": 37,
          "metadata": {},
          "output_type": "execute_result"
        }
      ],
      "source": [
        "df = pd.read_csv('data/dataset/suspicious-tweets.csv')\n",
        "\n",
        "df.groupby('label').describe()"
      ]
    },
    {
      "cell_type": "code",
      "execution_count": 38,
      "metadata": {
        "colab": {
          "base_uri": "https://localhost:8080/",
          "height": 206
        },
        "id": "Xk0VqG5B19mI",
        "outputId": "88e2daf3-4b28-4bab-d62b-0103d14450b5"
      },
      "outputs": [
        {
          "data": {
            "text/html": [
              "<div>\n",
              "<style scoped>\n",
              "    .dataframe tbody tr th:only-of-type {\n",
              "        vertical-align: middle;\n",
              "    }\n",
              "\n",
              "    .dataframe tbody tr th {\n",
              "        vertical-align: top;\n",
              "    }\n",
              "\n",
              "    .dataframe thead th {\n",
              "        text-align: right;\n",
              "    }\n",
              "</style>\n",
              "<table border=\"1\" class=\"dataframe\">\n",
              "  <thead>\n",
              "    <tr style=\"text-align: right;\">\n",
              "      <th></th>\n",
              "      <th>message</th>\n",
              "      <th>label</th>\n",
              "      <th>length</th>\n",
              "    </tr>\n",
              "  </thead>\n",
              "  <tbody>\n",
              "    <tr>\n",
              "      <th>0</th>\n",
              "      <td>@switchfoot http://twitpic.com/2y1zl - Awww, t...</td>\n",
              "      <td>1</td>\n",
              "      <td>115</td>\n",
              "    </tr>\n",
              "    <tr>\n",
              "      <th>1</th>\n",
              "      <td>is upset that he can't update his Facebook by ...</td>\n",
              "      <td>1</td>\n",
              "      <td>111</td>\n",
              "    </tr>\n",
              "    <tr>\n",
              "      <th>2</th>\n",
              "      <td>@Kenichan I dived many times for the ball. Man...</td>\n",
              "      <td>1</td>\n",
              "      <td>89</td>\n",
              "    </tr>\n",
              "    <tr>\n",
              "      <th>3</th>\n",
              "      <td>my whole body feels itchy and like its on fire</td>\n",
              "      <td>0</td>\n",
              "      <td>47</td>\n",
              "    </tr>\n",
              "    <tr>\n",
              "      <th>4</th>\n",
              "      <td>@nationwideclass no, it's not behaving at all....</td>\n",
              "      <td>1</td>\n",
              "      <td>111</td>\n",
              "    </tr>\n",
              "  </tbody>\n",
              "</table>\n",
              "</div>"
            ],
            "text/plain": [
              "                                             message  label  length\n",
              "0  @switchfoot http://twitpic.com/2y1zl - Awww, t...      1     115\n",
              "1  is upset that he can't update his Facebook by ...      1     111\n",
              "2  @Kenichan I dived many times for the ball. Man...      1      89\n",
              "3    my whole body feels itchy and like its on fire       0      47\n",
              "4  @nationwideclass no, it's not behaving at all....      1     111"
            ]
          },
          "execution_count": 38,
          "metadata": {},
          "output_type": "execute_result"
        }
      ],
      "source": [
        "# Count the number of characters in each message\n",
        "df['length'] = df['message'].apply(len)\n",
        "df.head()"
      ]
    },
    {
      "cell_type": "code",
      "execution_count": 39,
      "metadata": {
        "colab": {
          "base_uri": "https://localhost:8080/"
        },
        "id": "dXDPkeko19mJ",
        "outputId": "a490d9ea-3340-4b42-fd57-9bf97e7d640a"
      },
      "outputs": [
        {
          "data": {
            "text/plain": [
              "0    1\n",
              "1    1\n",
              "2    1\n",
              "3    0\n",
              "4    1\n",
              "Name: label, dtype: int64"
            ]
          },
          "execution_count": 39,
          "metadata": {},
          "output_type": "execute_result"
        }
      ],
      "source": [
        "# Use for pre-test only 11 number of elements!\n",
        "df_labels = df['label']\n",
        "df_labels.head()"
      ]
    },
    {
      "cell_type": "markdown",
      "metadata": {
        "id": "rCbtVL4i19mK"
      },
      "source": [
        "### Data representation"
      ]
    },
    {
      "cell_type": "code",
      "execution_count": 40,
      "metadata": {
        "colab": {
          "base_uri": "https://localhost:8080/",
          "height": 283
        },
        "id": "IuVkvUqs19mK",
        "outputId": "1ba0b8b4-8fdc-48a4-f107-4b32d0f040ce"
      },
      "outputs": [
        {
          "name": "stdout",
          "output_type": "stream",
          "text": [
            "Suspicious:  6145\n",
            "Non-Suspicious:  53855\n"
          ]
        },
        {
          "data": {
            "image/png": "[encoded data removed]",
            "text/plain": [
              "<Figure size 640x480 with 1 Axes>"
            ]
          },
          "metadata": {},
          "output_type": "display_data"
        }
      ],
      "source": [
        "# Only for hinstogram\n",
        "count_Class = pd.value_counts(df.label, sort = True)\n",
        "print(\"Suspicious: \", count_Class[0])\n",
        "print(\"Non-Suspicious: \", count_Class[1])\n",
        "\n",
        "# Data\n",
        "labels = '[0]suspicious', '[1]non-suspicious'\n",
        "sizes = [count_Class[0], count_Class[1]]\n",
        "colors = ['red', 'skyblue']\n",
        "explode = (0.1, 0.1)\n",
        "\n",
        "\n",
        "plt.pie(sizes, explode = explode, labels = labels, colors = colors,\n",
        "        autopct = '%1.1f%%', shadow = True, startangle = 90)\n",
        "plt.axis('equal')\n",
        "plt.show()"
      ]
    },
    {
      "cell_type": "markdown",
      "metadata": {
        "id": "wbGr3Ext19mM"
      },
      "source": [
        "### Data cleaning\n",
        "\n",
        "**Important notes:**\n",
        "- The *Porter stemming* algorithm (or 'Porter stemmer') is a process for removing the commoner morphological and inflexional endings from words in English. Its main use is as part of a term normalisation process that is usually done when setting up Information Retrieval systems."
      ]
    },
    {
      "cell_type": "code",
      "execution_count": 41,
      "metadata": {
        "id": "AxkmR_IY19mM"
      },
      "outputs": [],
      "source": [
        "# Preprocess text and clean string\n",
        "def preprocess_text(sen):\n",
        "    sentence = re.sub('(https?:\\/\\/)?([\\da-z\\.-]+)\\.([a-z\\.]{2,6})([\\/\\w \\.-]*)',' ',sen) # Removing html tags\n",
        "    sentence = re.sub('[^a-zA-Z]', ' ', sentence) # Remove punctuations and numbers\n",
        "    sentence = re.sub(r\"\\s+[a-zA-Z]\\s+\", ' ', sentence) # Single character removal\n",
        "    sentence = re.sub(r'\\s+', ' ', sentence) # Removing multiple spaces\n",
        "    sentence = sentence.replace(\"ain't\", \"am not\").replace(\"aren't\", \"are not\")\n",
        "    sentence = ' '.join(text.lower() for text in sentence.split(' ')) # Lowering cases\n",
        "    sw = stopwords.words('english')\n",
        "    sentence = ' '.join(text for text in sentence.split() if text not in sw) #removing stopwords\n",
        "    #sentence = ' '.join(text.lemmatize() for text in sentence.split()) #lemmatization\n",
        "    return sentence"
      ]
    },
    {
      "cell_type": "code",
      "execution_count": 42,
      "metadata": {
        "colab": {
          "base_uri": "https://localhost:8080/"
        },
        "id": "Oltu5KEd19mM",
        "outputId": "c011ff44-fcd7-49f3-c795-76644076ea82"
      },
      "outputs": [
        {
          "name": "stderr",
          "output_type": "stream",
          "text": [
            "[nltk_data] Downloading package stopwords to /home/peppe/nltk_data...\n",
            "[nltk_data]   Package stopwords is already up-to-date!\n",
            "[nltk_data] Downloading package punkt to /home/peppe/nltk_data...\n",
            "[nltk_data]   Package punkt is already up-to-date!\n"
          ]
        }
      ],
      "source": [
        "nltk.download('stopwords')\n",
        "nltk.download('punkt')\n",
        "# Save in message, clean text\n",
        "df['message'] = df.message.apply(preprocess_text)\n",
        "# Tokenization each text\n",
        "df['message'] = df['message'].apply(nltk.word_tokenize)\n",
        "\n",
        "stemmer = PorterStemmer()\n",
        "df['message'] = df['message'].apply(lambda x: [stemmer.stem(y) for y in x])"
      ]
    },
    {
      "cell_type": "code",
      "execution_count": 43,
      "metadata": {
        "colab": {
          "base_uri": "https://localhost:8080/"
        },
        "id": "eXNAh-DF19mN",
        "outputId": "950dfe35-358c-4979-c754-31dc3172e0f2"
      },
      "outputs": [
        {
          "data": {
            "text/plain": [
              "0    [switchfoot, bummer, shoulda, got, david, carr...\n",
              "1                       [upset, updat, facebook, text]\n",
              "2    [kenichan, dive, mani, time, ball, manag, save...\n",
              "3               [whole, bodi, feel, itchi, like, fire]\n",
              "4                   [nationwideclass, behav, mad, see]\n",
              "Name: message, dtype: object"
            ]
          },
          "execution_count": 43,
          "metadata": {},
          "output_type": "execute_result"
        }
      ],
      "source": [
        "# is upset that he can't update his Facebook by texting it... and might cry as a result  School today also. Blah!\n",
        "# -> ['upset', 'updat', 'facebook', 'text', 'might', 'cri', 'result', 'school', 'today', 'blah']\n",
        "show = df['message']\n",
        "show.head()"
      ]
    },
    {
      "cell_type": "markdown",
      "metadata": {
        "id": "oTtKtVri19mP"
      },
      "source": [
        "### Data processing\n",
        "**Important notes:**\n",
        "- *CountVectorizer* Convert a collection of text documents to a matrix of token counts. This implementation produces a sparse representation of the counts using scipy.sparse.csr_matrix. If you do not provide an a-priori dictionary and you do not use an analyzer that does some kind of feature selection then the number of features will be equal to the vocabulary size found by analyzing the data.\n",
        "\n",
        "- *TfidfTransformer* Transform a count matrix to a normalized tf or tf-idf representation. Tf means term-frequency while tf-idf means term-frequency times inverse document-frequency. This is a common term weighting scheme in information retrieval, that has also found good use in document classification. The goal of using tf-idf instead of the raw frequencies of occurrence of a token in a given document is to scale down the impact of tokens that occur very frequently in a given corpus and that are hence empirically less informative than features that occur in a small fraction of the training corpus."
      ]
    },
    {
      "cell_type": "code",
      "execution_count": 44,
      "metadata": {
        "id": "auKSU72J19mP"
      },
      "outputs": [],
      "source": [
        "df['message'] = df['message'].apply(lambda x: ' '.join(x))\n",
        "\n",
        "# Convert a collection of text documents to a matrix of token counts.\n",
        "count_vect = CountVectorizer()\n",
        "counts = count_vect.fit_transform(df['message']);"
      ]
    },
    {
      "cell_type": "code",
      "execution_count": 45,
      "metadata": {
        "id": "jJKfv4bq19mQ"
      },
      "outputs": [],
      "source": [
        "transformer = TfidfTransformer().fit(counts)\n",
        "counts = transformer.fit_transform(counts)"
      ]
    },
    {
      "cell_type": "markdown",
      "metadata": {
        "id": "Mf8AfkL319mQ"
      },
      "source": [
        "### Data split"
      ]
    },
    {
      "cell_type": "code",
      "execution_count": 46,
      "metadata": {
        "id": "J2W_iZsI19mS"
      },
      "outputs": [],
      "source": [
        "# Separe dataset in traning and test(30%)\n",
        "X_train, X_test, y_train, y_test = train_test_split(counts, df['label'], test_size=0.3, random_state=69)"
      ]
    },
    {
      "cell_type": "markdown",
      "metadata": {
        "id": "ZRhc4yq219mU"
      },
      "source": [
        "## 🐱‍🏍 Learning models"
      ]
    },
    {
      "cell_type": "markdown",
      "metadata": {
        "id": "oMxxioX8P17g"
      },
      "source": [
        "### Naive bayes and evaluation\n",
        "\n",
        "**Impotant notes:**\n",
        "- Compute *confusion matrix* to evaluate the accuracy of a classification.\n",
        "\n",
        "Evaluation metrics can be applied such as:\n",
        "\n",
        "- *Confusion Matrix:* a table showing correct predictions and types of incorrect predictions. A confusion matrix is a technique for summarizing the performance of a classification algorithm. Classification accuracy alone can be misleading if you have an unequal number of observations in each class or if you have more than two classes in your dataset. Calculating a confusion matrix can give you a better idea of what your classification model is getting right and what types of errors it is making.\n",
        "- *Precision:* the number of true positives divided by all positive predictions. Precision is also called Positive Predictive Value. It is a measure of a classifier’s exactness. Low precision indicates a high number of false positives.\n",
        "- *Recall:* the number of true positives divided by the number of positive values in the test data. Recall is also called Sensitivity or the True Positive Rate. It is a measure of a classifier’s completeness. Low recall indicates a high number of false negatives.\n",
        "- *F1-Score:* the weighted average of precision and recall."
      ]
    },
    {
      "cell_type": "code",
      "execution_count": 47,
      "metadata": {
        "id": "7V2v9XSe19mU"
      },
      "outputs": [],
      "source": [
        "from sklearn.naive_bayes import MultinomialNB\n",
        "from sklearn.svm import SVC\n",
        "from sklearn.tree import DecisionTreeClassifier\n",
        "from sklearn.ensemble import AdaBoostClassifier\n",
        "\n",
        "from sklearn.metrics import accuracy_score\n",
        "from sklearn.metrics import ConfusionMatrixDisplay"
      ]
    },
    {
      "cell_type": "code",
      "execution_count": 48,
      "metadata": {
        "colab": {
          "base_uri": "https://localhost:8080/"
        },
        "id": "3rD95h4u19mV",
        "outputId": "2a606584-6da9-4f53-f80f-9e2810a67114"
      },
      "outputs": [
        {
          "name": "stdout",
          "output_type": "stream",
          "text": [
            "0.9002222222222223\n"
          ]
        }
      ],
      "source": [
        "# implementing naive bayes\n",
        "NB = MultinomialNB().fit(X_train, y_train)\n",
        "\n",
        "predicted = NB.predict(X_test)\n",
        "print(np.mean(predicted == y_test))"
      ]
    },
    {
      "cell_type": "code",
      "execution_count": 49,
      "metadata": {
        "colab": {
          "base_uri": "https://localhost:8080/"
        },
        "id": "131yzjr319mW",
        "outputId": "772280b4-f88f-4d3b-f016-772cdbb7c3db"
      },
      "outputs": [
        {
          "name": "stdout",
          "output_type": "stream",
          "text": [
            "Accuracy: 0.9002222222222223\n"
          ]
        }
      ],
      "source": [
        "# Confronto etichette corrette dei dati di test (y) con le risposte elaborate dal programma (predicted).\n",
        "error = accuracy_score(y_test, predicted)\n",
        "print(f\"Accuracy: {error}\")"
      ]
    },
    {
      "cell_type": "code",
      "execution_count": 50,
      "metadata": {
        "colab": {
          "base_uri": "https://localhost:8080/"
        },
        "id": "NAXV17fq19mX",
        "outputId": "0d51d06f-d0e5-461f-8057-7b66227dfc56"
      },
      "outputs": [
        {
          "name": "stdout",
          "output_type": "stream",
          "text": [
            "              precision    recall  f1-score   support\n",
            "\n",
            "           0       1.00      0.04      0.08      1869\n",
            "           1       0.90      1.00      0.95     16131\n",
            "\n",
            "    accuracy                           0.90     18000\n",
            "   macro avg       0.95      0.52      0.51     18000\n",
            "weighted avg       0.91      0.90      0.86     18000\n",
            "\n"
          ]
        }
      ],
      "source": [
        "print(classification_report(y_test,predicted))"
      ]
    },
    {
      "cell_type": "markdown",
      "metadata": {},
      "source": [
        "**Confusion Matrix specifically**, it computes:\n",
        "\n",
        "- True positives (TP)\n",
        "  - The model predicted true and it is true.\n",
        "  - The model predicted that someone message is SUSPICIOUS and the message is SUSPICIOUS.\n",
        "- False positives (FP)\n",
        "  - The model predicted false and it is false.\n",
        "  - The model predicted that someone message is NOT-SUSPICIOUS and the message is NOT-SUSPICIOUS.\n",
        "- True negatives (TN)\n",
        "  - The model predicted True and it is false.\n",
        "  - The model predicted that someone message is SUSPICIOUS and the message is NOT-SUSPICIOUS.\n",
        "- False negatives (FN)\n",
        "  - The model predicted false and it is true.\n",
        "  - The model predicted that someone message is NOT-SUSPICIOUS and the message is SUSPICIOUS.\n",
        "\n",
        "![Confusion-matrix](resources/confusion-matrix.png)"
      ]
    },
    {
      "cell_type": "code",
      "execution_count": 77,
      "metadata": {
        "colab": {
          "base_uri": "https://localhost:8080/"
        },
        "id": "TNnD0FY719mX",
        "outputId": "f537de97-bced-456e-81cb-0444085ddc3c"
      },
      "outputs": [
        {
          "name": "stdout",
          "output_type": "stream",
          "text": [
            "[[ 1314   555]\n",
            " [   65 16066]]\n"
          ]
        },
        {
          "data": {
            "image/png": "[encoded data removed]",
            "text/plain": [
              "<Figure size 640x480 with 2 Axes>"
            ]
          },
          "metadata": {},
          "output_type": "display_data"
        }
      ],
      "source": [
        "# Compute confusion matrix to evaluate the accuracy of a classification\n",
        "print(confusion_matrix(y_test, predicted))\n",
        "\n",
        "ConfusionMatrixDisplay.from_estimator(NB, X_test, y_test, cmap=plt.cm.Blues)\n",
        "plt.show()"
      ]
    },
    {
      "cell_type": "markdown",
      "metadata": {
        "id": "jVa5ZOFz19mY"
      },
      "source": [
        "### SVC\n",
        "C-Support Vector Classification. The implementation is based on libsvm. The fit time scales at least quadratically with the number of samples and may be impractical beyond tens of thousands of samples."
      ]
    },
    {
      "cell_type": "code",
      "execution_count": 52,
      "metadata": {
        "colab": {
          "base_uri": "https://localhost:8080/"
        },
        "id": "pXIMTG5019mY",
        "outputId": "ea6dcb65-1317-43ec-d05e-9bfb285c8ef7"
      },
      "outputs": [
        {
          "name": "stdout",
          "output_type": "stream",
          "text": [
            "0.9588888888888889\n"
          ]
        }
      ],
      "source": [
        "# implementing SVM\n",
        "sv = SVC().fit(X_train, y_train)\n",
        "\n",
        "predicted = sv.predict(X_test)\n",
        "print(np.mean(predicted == y_test))"
      ]
    },
    {
      "cell_type": "code",
      "execution_count": 53,
      "metadata": {
        "colab": {
          "base_uri": "https://localhost:8080/"
        },
        "id": "nDZeXB9x19mZ",
        "outputId": "ee8dc22c-dd66-42a0-e712-ecaf1f13de30"
      },
      "outputs": [
        {
          "name": "stdout",
          "output_type": "stream",
          "text": [
            "              precision    recall  f1-score   support\n",
            "\n",
            "           0       0.97      0.62      0.76      1869\n",
            "           1       0.96      1.00      0.98     16131\n",
            "\n",
            "    accuracy                           0.96     18000\n",
            "   macro avg       0.96      0.81      0.87     18000\n",
            "weighted avg       0.96      0.96      0.95     18000\n",
            "\n"
          ]
        }
      ],
      "source": [
        "print(classification_report(y_test,predicted))"
      ]
    },
    {
      "cell_type": "code",
      "execution_count": 72,
      "metadata": {
        "colab": {
          "base_uri": "https://localhost:8080/"
        },
        "id": "FYPIyZ9D19mZ",
        "outputId": "296e45e6-4ca1-4a31-80d7-7181f5ce9308"
      },
      "outputs": [
        {
          "name": "stdout",
          "output_type": "stream",
          "text": [
            "[[ 1314   555]\n",
            " [   65 16066]]\n"
          ]
        },
        {
          "data": {
            "image/png": "[encoded data removed]",
            "text/plain": [
              "<Figure size 640x480 with 2 Axes>"
            ]
          },
          "metadata": {},
          "output_type": "display_data"
        }
      ],
      "source": [
        "print(confusion_matrix(y_test, predicted))\n",
        "\n",
        "ConfusionMatrixDisplay.from_estimator(sv, X_test, y_test, cmap=plt.cm.Blues)\n",
        "plt.show()"
      ]
    },
    {
      "cell_type": "markdown",
      "metadata": {
        "id": "OwH9x94L19ma"
      },
      "source": [
        "### Decision tree classifier\n",
        "Decision tree builds classification or regression models in the form of a tree structure. It breaks down a dataset into smaller and smaller subsets while at the same time an associated decision tree is incrementally developed. The final result is a tree with decision nodes and leaf nodes."
      ]
    },
    {
      "cell_type": "code",
      "execution_count": 55,
      "metadata": {
        "colab": {
          "base_uri": "https://localhost:8080/"
        },
        "id": "bjuInh2219ma",
        "outputId": "ad83d6db-9f80-4415-80b7-262bddb8a8b7"
      },
      "outputs": [
        {
          "name": "stdout",
          "output_type": "stream",
          "text": [
            "0.9727222222222223\n"
          ]
        }
      ],
      "source": [
        "# implementing disession tree\n",
        "dt = DecisionTreeClassifier().fit(X_train, y_train)\n",
        "\n",
        "predicted = dt.predict(X_test)\n",
        "print(np.mean(predicted == y_test))"
      ]
    },
    {
      "cell_type": "code",
      "execution_count": 56,
      "metadata": {
        "colab": {
          "base_uri": "https://localhost:8080/"
        },
        "id": "GTgSE2Ce19ma",
        "outputId": "655c26df-ff98-4dad-f8b2-4f1481f63f2f"
      },
      "outputs": [
        {
          "name": "stdout",
          "output_type": "stream",
          "text": [
            "              precision    recall  f1-score   support\n",
            "\n",
            "           0       0.89      0.84      0.86      1869\n",
            "           1       0.98      0.99      0.98     16131\n",
            "\n",
            "    accuracy                           0.97     18000\n",
            "   macro avg       0.94      0.91      0.92     18000\n",
            "weighted avg       0.97      0.97      0.97     18000\n",
            "\n"
          ]
        }
      ],
      "source": [
        "print(classification_report(y_test,predicted))"
      ]
    },
    {
      "cell_type": "code",
      "execution_count": 78,
      "metadata": {
        "colab": {
          "base_uri": "https://localhost:8080/"
        },
        "id": "NdZmLwZh19ma",
        "outputId": "97f1ef8f-82c6-439b-e0fb-27b1ff755e15"
      },
      "outputs": [
        {
          "name": "stdout",
          "output_type": "stream",
          "text": [
            "[[ 1314   555]\n",
            " [   65 16066]]\n"
          ]
        },
        {
          "data": {
            "image/png": "[encoded data removed]",
            "text/plain": [
              "<Figure size 640x480 with 2 Axes>"
            ]
          },
          "metadata": {},
          "output_type": "display_data"
        }
      ],
      "source": [
        "print(confusion_matrix(y_test, predicted))\n",
        "\n",
        "ConfusionMatrixDisplay.from_estimator(dt, X_test, y_test, cmap=plt.cm.Blues)\n",
        "plt.show()"
      ]
    },
    {
      "cell_type": "markdown",
      "metadata": {
        "id": "d8yhcDpZ19mb"
      },
      "source": [
        "### An AdaBoost classifier\n",
        "An AdaBoost classifier is a meta-estimator that begins by fitting a classifier on the original dataset and then fits additional copies of the classifier on the same dataset but where the weights of incorrectly classified instances are adjusted such that subsequent classifiers focus more on difficult cases.\n",
        "\n",
        "This class implements the algorithm known as AdaBoost-SAMME."
      ]
    },
    {
      "cell_type": "code",
      "execution_count": 58,
      "metadata": {
        "colab": {
          "base_uri": "https://localhost:8080/"
        },
        "id": "t25R7snD19mb",
        "outputId": "91d43396-b190-4a72-f712-0537d239d902"
      },
      "outputs": [
        {
          "name": "stdout",
          "output_type": "stream",
          "text": [
            "0.9655555555555555\n"
          ]
        }
      ],
      "source": [
        "# implementing adabost\n",
        "ab = AdaBoostClassifier().fit(X_train, y_train)\n",
        "\n",
        "predicted = ab.predict(X_test)\n",
        "print(np.mean(predicted == y_test))"
      ]
    },
    {
      "cell_type": "code",
      "execution_count": 59,
      "metadata": {
        "colab": {
          "base_uri": "https://localhost:8080/"
        },
        "id": "2DzY-UBB19mb",
        "outputId": "615f8470-9908-4683-bd91-058f44ae603c"
      },
      "outputs": [
        {
          "name": "stdout",
          "output_type": "stream",
          "text": [
            "              precision    recall  f1-score   support\n",
            "\n",
            "           0       0.95      0.70      0.81      1869\n",
            "           1       0.97      1.00      0.98     16131\n",
            "\n",
            "    accuracy                           0.97     18000\n",
            "   macro avg       0.96      0.85      0.90     18000\n",
            "weighted avg       0.97      0.97      0.96     18000\n",
            "\n"
          ]
        }
      ],
      "source": [
        "print(classification_report(y_test,predicted))"
      ]
    },
    {
      "cell_type": "code",
      "execution_count": 79,
      "metadata": {
        "colab": {
          "base_uri": "https://localhost:8080/"
        },
        "id": "2LvWgHn519mc",
        "outputId": "b889ae54-aef1-405f-e477-321b419ae0a2"
      },
      "outputs": [
        {
          "name": "stdout",
          "output_type": "stream",
          "text": [
            "[[ 1314   555]\n",
            " [   65 16066]]\n"
          ]
        },
        {
          "data": {
            "image/png": "[encoded data removed]",
            "text/plain": [
              "<Figure size 640x480 with 2 Axes>"
            ]
          },
          "metadata": {},
          "output_type": "display_data"
        }
      ],
      "source": [
        "print(confusion_matrix(y_test, predicted))\n",
        "\n",
        "ConfusionMatrixDisplay.from_estimator(ab, X_test, y_test, cmap=plt.cm.Blues)\n",
        "plt.show()"
      ]
    },
    {
      "cell_type": "markdown",
      "metadata": {
        "id": "td6fY80A19mc"
      },
      "source": [
        "## 📊 Finalize learning\n",
        "\n",
        "**Important notes:**\n",
        "- **Transform** documents to document-term matrix. Extract token counts out of raw text documents using the vocabulary fitted with fit or the one provided to the constructor.\n",
        "\n",
        "- **Predict** class or regression value for X. For a classification model, the predicted class for each sample in X is returned. For a regression model, the predicted value based on X is returned."
      ]
    },
    {
      "cell_type": "code",
      "execution_count": 61,
      "metadata": {
        "colab": {
          "base_uri": "https://localhost:8080/"
        },
        "id": "LJgs6jv719mc",
        "outputId": "0a85b612-1566-4667-af6b-8f795d980c47"
      },
      "outputs": [
        {
          "name": "stdout",
          "output_type": "stream",
          "text": [
            "prediction: [1 1 1 ... 1 1 1]\n"
          ]
        }
      ],
      "source": [
        "# converting content to lower case\n",
        "pred = (df['message'].str.lower())\n",
        "# printing predictions made by model\n",
        "print(\"prediction: {}\". format(dt.predict(count_vect.transform(pred.values.astype('U')))))\n",
        "# saving predictions in a variable\n",
        "my_pred = dt.predict(count_vect.transform(pred.values.astype('U')))\n",
        "\n",
        "# saving predicted labels in .csv file\n",
        "df['autotag'] = my_pred\n",
        "df.to_csv('data/dataset/result.csv',index = False)"
      ]
    },
    {
      "cell_type": "markdown",
      "metadata": {
        "id": "m615f68Z19md"
      },
      "source": [
        "## 📊 Valutate and results"
      ]
    },
    {
      "cell_type": "code",
      "execution_count": 62,
      "metadata": {
        "id": "oL9i9qED19md"
      },
      "outputs": [],
      "source": [
        "# getting the number of -ve , +ve  predictions \n",
        "positive = 0\n",
        "negative = 0\n",
        "\n",
        "for v in my_pred:\n",
        " if (v == 1):\n",
        "  positive += 1\n",
        " elif (v == 0):\n",
        "  negative += 1"
      ]
    },
    {
      "cell_type": "code",
      "execution_count": 63,
      "metadata": {
        "id": "_RTkd1IN19md"
      },
      "outputs": [],
      "source": [
        "# function for quality measurement (can be set to required parameters)\n",
        "def quality(pos,total):\n",
        "    if((pos*100)/total >= 0 and (pos*100)/total <=24 ):\n",
        "        print('Quality: Very Negative')\n",
        "    elif((pos*100)/total >= 25 and (pos*100)/total <=49 ):\n",
        "        print('Quality: Negative')\n",
        "    elif((pos*100)/total >= 50 and (pos*100)/total <=74 ):\n",
        "        print('Quality: Positive')\n",
        "    elif((pos*100)/total >= 75 and (pos*100)/total <=100 ):\n",
        "        print('Quality: Very Positive')"
      ]
    },
    {
      "cell_type": "code",
      "execution_count": 64,
      "metadata": {
        "colab": {
          "base_uri": "https://localhost:8080/",
          "height": 330
        },
        "id": "kgOWs5Xq19me",
        "outputId": "47d16ac6-95be-4692-8a47-f0b11451fb38"
      },
      "outputs": [
        {
          "data": {
            "image/png": "[encoded data removed]",
            "text/plain": [
              "<Figure size 640x480 with 1 Axes>"
            ]
          },
          "metadata": {},
          "output_type": "display_data"
        },
        {
          "name": "stdout",
          "output_type": "stream",
          "text": [
            "Sentiment - Positive: 47500, Negative: 12500\n",
            "Quality: Very Positive\n"
          ]
        }
      ],
      "source": [
        "# importing library to plot charts\n",
        "import matplotlib.pyplot as plt \n",
        "  \n",
        "# x-coordinates of left sides of bars  \n",
        "left = [100, 200] \n",
        "\n",
        "# heights of bars \n",
        "height = [positive,negative]\n",
        "  \n",
        "# labels for bars \n",
        "tick_label = ['Positive', 'Negative'] \n",
        "  \n",
        "# plotting a bar chart \n",
        "plt.bar(left, height, tick_label = tick_label, width = 80, color = ['green','red']) \n",
        "  \n",
        "# naming the x-axis \n",
        "plt.xlabel('Sentiment') \n",
        "# naming the y-axis \n",
        "plt.ylabel('Reviews') \n",
        "# plot title \n",
        "plt.title('Hate Speech Detection') \n",
        "  \n",
        "# function to show the plot \n",
        "plt.show() \n",
        "print (\"Sentiment - Positive: \"+str(positive)+\", Negative: \"+str(negative))\n",
        "quality(positive,(positive+negative))"
      ]
    },
    {
      "cell_type": "code",
      "execution_count": 65,
      "metadata": {
        "colab": {
          "base_uri": "https://localhost:8080/"
        },
        "id": "8l5uVpkO19me",
        "outputId": "e60bde3f-fa19-4837-b3b1-2088ee2b248b"
      },
      "outputs": [
        {
          "name": "stdout",
          "output_type": "stream",
          "text": [
            "Negativeity: 20.833333333333332%\n",
            "Positivity: 79.16666666666667%\n"
          ]
        }
      ],
      "source": [
        "# getting negativity \n",
        "negativeity = (negative*100)/(positive+negative)\n",
        "positivity = (positive*100)/(positive+negative)\n",
        "print(\"Negativeity: \"+str(negativeity)+\"%\")\n",
        "print(\"Positivity: \"+str(positivity)+\"%\")"
      ]
    },
    {
      "cell_type": "markdown",
      "metadata": {
        "id": "Xpje5rQs19me"
      },
      "source": [
        "## 💡 Random Oversampling (under)\n",
        "\n",
        "This technique is used to modify the unequal data classes to create balanced datasets. When the quantity of data is insufficient, the oversampling method tries to balance by incrementing the size of rare samples.\n",
        "\n",
        "(Or)\n",
        "\n",
        "Over-sampling increases the number of minority class members in the training set. The advantage of over-sampling is that no information from the original training set is lost, as all observations from the minority and majority classes are kept. On the other hand, it is prone to over fitting.\n",
        "\n",
        "- Advantages:\n",
        "  - No loss of information\n",
        "  - Mitigate overfitting caused by oversampling.\n",
        "- Disadvantages:\n",
        "  - Overfitting\n",
        "- Specifications: \n",
        "  - Random Oversampling: $not \\;majority$ = resample all classes but the majority class\n",
        "  - Random Undersampling: $not \\;minority$ = resample all classes but the minority class"
      ]
    },
    {
      "cell_type": "code",
      "execution_count": 66,
      "metadata": {
        "colab": {
          "base_uri": "https://localhost:8080/",
          "height": 316
        },
        "id": "AzNh1Xkb19mT",
        "outputId": "8c7e416d-15b8-4e10-d5b2-a216c65a80db"
      },
      "outputs": [
        {
          "data": {
            "text/plain": [
              "0    4276\n",
              "1    4276\n",
              "Name: label, dtype: int64"
            ]
          },
          "execution_count": 66,
          "metadata": {},
          "output_type": "execute_result"
        },
        {
          "data": {
            "image/png": "[encoded data removed]",
            "text/plain": [
              "<Figure size 640x480 with 1 Axes>"
            ]
          },
          "metadata": {},
          "output_type": "display_data"
        }
      ],
      "source": [
        "from imblearn.under_sampling import RandomUnderSampler\n",
        "\n",
        "rus = RandomUnderSampler(sampling_strategy=\"not minority\") # Numerical value\n",
        "\n",
        "X_resample, y_resample = rus.fit_resample(X_train, y_train)\n",
        "\n",
        "labels = '[0]suspicious', '[1]non-suspicious'\n",
        "\n",
        "ax = y_resample.value_counts().plot.pie(autopct='%1.1f%%', labels=labels, colors=['red','green'], shadow = True, startangle = 90, ylabel='')\n",
        "\n",
        "_ = ax.set_title(\"Under-sampling\")\n",
        "\n",
        "y_resample.value_counts()"
      ]
    },
    {
      "cell_type": "code",
      "execution_count": 67,
      "metadata": {
        "colab": {
          "base_uri": "https://localhost:8080/"
        },
        "id": "SM4GA43u19me",
        "outputId": "e284d7fa-9eed-4d30-e79d-0dc141312cf4"
      },
      "outputs": [
        {
          "name": "stdout",
          "output_type": "stream",
          "text": [
            "predicted_nb:  0.683\n",
            "predicted_sv:  0.9566111111111111\n",
            "predicted_dt:  0.8260555555555555\n",
            "predicted_ab:  0.9648888888888889\n"
          ]
        }
      ],
      "source": [
        "# implementing naive bayes\n",
        "NB_os = MultinomialNB().fit(X_resample, y_resample)\n",
        "\n",
        "predicted_nb = NB_os.predict(X_test)\n",
        "print(\"predicted_nb: \", np.mean(predicted_nb == y_test))\n",
        "\n",
        "# implementing SVM\n",
        "sv_os = SVC().fit(X_resample, y_resample)\n",
        "\n",
        "predicted_sv = sv_os.predict(X_test)\n",
        "print(\"predicted_sv: \", np.mean(predicted_sv == y_test))\n",
        "\n",
        "# implementing disession tree\n",
        "dt_os = DecisionTreeClassifier().fit(X_resample, y_resample)\n",
        "\n",
        "predicted_dt = dt_os.predict(X_test)\n",
        "print(\"predicted_dt: \", np.mean(predicted_dt == y_test))\n",
        "\n",
        "# implementing adabost\n",
        "ab_os = AdaBoostClassifier().fit(X_resample, y_resample)\n",
        "\n",
        "predicted_ab = ab_os.predict(X_test)\n",
        "print(\"predicted_ab: \", np.mean(predicted_ab == y_test))"
      ]
    },
    {
      "cell_type": "code",
      "execution_count": 74,
      "metadata": {
        "colab": {
          "base_uri": "https://localhost:8080/"
        },
        "id": "WVLMjiVoLj0t",
        "outputId": "627d75a1-9ebe-4272-f657-05d05fb232f7"
      },
      "outputs": [
        {
          "name": "stdout",
          "output_type": "stream",
          "text": [
            "MultinomialNB: \n",
            "               precision    recall  f1-score   support\n",
            "\n",
            "           0       0.24      0.92      0.38      1869\n",
            "           1       0.99      0.66      0.79     16131\n",
            "\n",
            "    accuracy                           0.68     18000\n",
            "   macro avg       0.61      0.79      0.58     18000\n",
            "weighted avg       0.91      0.68      0.74     18000\n",
            "\n",
            "SVC: \n",
            "               precision    recall  f1-score   support\n",
            "\n",
            "           0       0.80      0.78      0.79      1869\n",
            "           1       0.97      0.98      0.98     16131\n",
            "\n",
            "    accuracy                           0.96     18000\n",
            "   macro avg       0.89      0.88      0.88     18000\n",
            "weighted avg       0.96      0.96      0.96     18000\n",
            "\n",
            "DecisionTreeClassifier: \n",
            "               precision    recall  f1-score   support\n",
            "\n",
            "           0       0.36      0.90      0.52      1869\n",
            "           1       0.99      0.82      0.89     16131\n",
            "\n",
            "    accuracy                           0.83     18000\n",
            "   macro avg       0.67      0.86      0.71     18000\n",
            "weighted avg       0.92      0.83      0.85     18000\n",
            "\n",
            "AdaBoostClassifier: \n",
            "               precision    recall  f1-score   support\n",
            "\n",
            "           0       0.92      0.73      0.81      1869\n",
            "           1       0.97      0.99      0.98     16131\n",
            "\n",
            "    accuracy                           0.96     18000\n",
            "   macro avg       0.94      0.86      0.90     18000\n",
            "weighted avg       0.96      0.96      0.96     18000\n",
            "\n"
          ]
        }
      ],
      "source": [
        "print(\"MultinomialNB: \\n\", classification_report(y_test,predicted_nb))\n",
        "#print(\"MultinomialNB: \", confusion_matrix(y_test, predicted_nb))\n",
        "\n",
        "print(\"SVC: \\n\", classification_report(y_test,predicted_sv))\n",
        "#print(\"SVC: \", confusion_matrix(y_test, predicted_sv))\n",
        "\n",
        "print(\"DecisionTreeClassifier: \\n\", classification_report(y_test,predicted_dt))\n",
        "#print(\"DecisionTreeClassifier: \", confusion_matrix(y_test, predicted_dt))\n",
        "\n",
        "print(\"AdaBoostClassifier: \\n\", classification_report(y_test,predicted_ab))\n",
        "#print(\"AdaBoostClassifier: \", confusion_matrix(y_test, predicted_ab))"
      ]
    },
    {
      "cell_type": "code",
      "execution_count": 76,
      "metadata": {},
      "outputs": [
        {
          "name": "stdout",
          "output_type": "stream",
          "text": [
            "NB_os: \n"
          ]
        },
        {
          "data": {
            "image/png": "[encoded data removed]",
            "text/plain": [
              "<Figure size 640x480 with 2 Axes>"
            ]
          },
          "metadata": {},
          "output_type": "display_data"
        },
        {
          "name": "stdout",
          "output_type": "stream",
          "text": [
            "sv_os: \n"
          ]
        },
        {
          "data": {
            "image/png": "[encoded data removed]",
            "text/plain": [
              "<Figure size 640x480 with 2 Axes>"
            ]
          },
          "metadata": {},
          "output_type": "display_data"
        },
        {
          "name": "stdout",
          "output_type": "stream",
          "text": [
            "dt_os: \n"
          ]
        },
        {
          "data": {
            "image/png": "[encoded data removed]",
            "text/plain": [
              "<Figure size 640x480 with 2 Axes>"
            ]
          },
          "metadata": {},
          "output_type": "display_data"
        },
        {
          "name": "stdout",
          "output_type": "stream",
          "text": [
            "ab_os: \n"
          ]
        },
        {
          "data": {
            "image/png": "[encoded data removed]",
            "text/plain": [
              "<Figure size 640x480 with 2 Axes>"
            ]
          },
          "metadata": {},
          "output_type": "display_data"
        }
      ],
      "source": [
        "print(\"NB_os: \")\n",
        "ConfusionMatrixDisplay.from_estimator(NB_os, X_test, y_test, cmap=plt.cm.Blues)\n",
        "plt.show()\n",
        "\n",
        "print(\"sv_os: \")\n",
        "ConfusionMatrixDisplay.from_estimator(sv_os, X_test, y_test, cmap=plt.cm.Blues)\n",
        "plt.show()\n",
        "\n",
        "print(\"dt_os: \")\n",
        "ConfusionMatrixDisplay.from_estimator(dt_os, X_test, y_test, cmap=plt.cm.Blues)\n",
        "plt.show()\n",
        "\n",
        "print(\"ab_os: \")\n",
        "ConfusionMatrixDisplay.from_estimator(ab_os, X_test, y_test, cmap=plt.cm.Blues)\n",
        "plt.show()"
      ]
    },
    {
      "cell_type": "markdown",
      "metadata": {
        "id": "y1joAV3j19mf"
      },
      "source": [
        "## 💡 K-fold cross-validation (normal)"
      ]
    },
    {
      "cell_type": "code",
      "execution_count": 69,
      "metadata": {
        "colab": {
          "base_uri": "https://localhost:8080/"
        },
        "id": "cFEdzOHS19mf",
        "outputId": "0ed3f4e6-79e1-4e2d-fd2a-098b091c2ce6"
      },
      "outputs": [
        {
          "name": "stdout",
          "output_type": "stream",
          "text": [
            "[nb] Accuracy: 89.92 %\n",
            "[nb] Standard Deviation: 0.00 %\n",
            "[sv] Accuracy: 94.61 %\n",
            "[sv] Standard Deviation: 0.06 %\n",
            "[dt] Accuracy: 97.06 %\n",
            "[dt] Standard Deviation: 0.01 %\n",
            "[ab] Accuracy: 96.29 %\n",
            "[ab] Standard Deviation: 0.01 %\n"
          ]
        }
      ],
      "source": [
        "# Implement K fold cross-validation\n",
        "from sklearn.model_selection import cross_val_score\n",
        "cv = 2\n",
        "\n",
        "nb_accuracy = cross_val_score(estimator = NB, X = X_train, y = y_train, cv = cv)\n",
        "print(\"[nb] Accuracy: {:.2f} %\".format(nb_accuracy.mean()*100))\n",
        "print(\"[nb] Standard Deviation: {:.2f} %\".format(nb_accuracy.std()*100))\n",
        "\n",
        "sv_accuracy = cross_val_score(estimator = sv, X = X_train, y = y_train, cv = cv)\n",
        "print(\"[sv] Accuracy: {:.2f} %\".format(sv_accuracy.mean()*100))\n",
        "print(\"[sv] Standard Deviation: {:.2f} %\".format(sv_accuracy.std()*100))\n",
        "\n",
        "dt_accuracies = cross_val_score(estimator = dt, X = X_train, y = y_train, cv = cv)\n",
        "print(\"[dt] Accuracy: {:.2f} %\".format(dt_accuracies.mean()*100))\n",
        "print(\"[dt] Standard Deviation: {:.2f} %\".format(dt_accuracies.std()*100))\n",
        "\n",
        "ab_accuracies = cross_val_score(estimator = ab, X = X_train, y = y_train, cv = cv)\n",
        "print(\"[ab] Accuracy: {:.2f} %\".format(ab_accuracies.mean()*100))\n",
        "print(\"[ab] Standard Deviation: {:.2f} %\".format(ab_accuracies.std()*100))"
      ]
    },
    {
      "cell_type": "markdown",
      "metadata": {
        "id": "_aU-LspNm1gH"
      },
      "source": [
        "## 💡 K-fold cross-validation (undersampling)"
      ]
    },
    {
      "cell_type": "code",
      "execution_count": 70,
      "metadata": {
        "colab": {
          "base_uri": "https://localhost:8080/"
        },
        "id": "3GTNnVURmtMq",
        "outputId": "3ef02ea8-ff70-4c95-8b65-6340d7872ca5"
      },
      "outputs": [
        {
          "name": "stdout",
          "output_type": "stream",
          "text": [
            "[nb] Accuracy: 75.39 %\n",
            "[nb] Standard Deviation: 0.76 %\n",
            "[sv] Accuracy: 83.29 %\n",
            "[sv] Standard Deviation: 0.32 %\n",
            "[dt] Accuracy: 82.61 %\n",
            "[dt] Standard Deviation: 0.74 %\n",
            "[ab] Accuracy: 83.29 %\n",
            "[ab] Standard Deviation: 0.22 %\n"
          ]
        }
      ],
      "source": [
        "# Implement K fold cross-validation\n",
        "from sklearn.model_selection import cross_val_score\n",
        "cv = 2\n",
        "\n",
        "nb_accuracy = cross_val_score(estimator = NB_os, X = X_resample, y = y_resample, cv = cv)\n",
        "print(\"[nb] Accuracy: {:.2f} %\".format(nb_accuracy.mean()*100))\n",
        "print(\"[nb] Standard Deviation: {:.2f} %\".format(nb_accuracy.std()*100))\n",
        "\n",
        "sv_accuracy = cross_val_score(estimator = sv_os, X = X_resample, y = y_resample, cv = cv)\n",
        "print(\"[sv] Accuracy: {:.2f} %\".format(sv_accuracy.mean()*100))\n",
        "print(\"[sv] Standard Deviation: {:.2f} %\".format(sv_accuracy.std()*100))\n",
        "\n",
        "dt_accuracies = cross_val_score(estimator = dt_os, X = X_resample, y = y_resample, cv = cv)\n",
        "print(\"[dt] Accuracy: {:.2f} %\".format(dt_accuracies.mean()*100))\n",
        "print(\"[dt] Standard Deviation: {:.2f} %\".format(dt_accuracies.std()*100))\n",
        "\n",
        "ab_accuracies = cross_val_score(estimator = ab_os, X = X_resample, y = y_resample, cv = cv)\n",
        "print(\"[ab] Accuracy: {:.2f} %\".format(ab_accuracies.mean()*100))\n",
        "print(\"[ab] Standard Deviation: {:.2f} %\".format(ab_accuracies.std()*100))"
      ]
    },
    {
      "cell_type": "markdown",
      "metadata": {
        "id": "NrHF-7tQ19mf"
      },
      "source": [
        "## 💡 Pickle model and show score"
      ]
    },
    {
      "cell_type": "code",
      "execution_count": 71,
      "metadata": {
        "id": "fEulFPcC19mg"
      },
      "outputs": [],
      "source": [
        "# NB = MultinomialNB().fit(X_train, y_train)\n",
        "# sv = SVC().fit(X_train, y_train)\n",
        "# dt = DecisionTreeClassifier().fit(X_train, y_train)\n",
        "# ab = AdaBoostClassifier().fit(X_train, y_train)\n",
        "\n",
        "path = 'data/modelSave/'\n",
        "\n",
        "nb_fileModel = path + 'nb_model.sav'\n",
        "sv_fileModel = path + 'sv_model.sav'\n",
        "dt_fileModel = path + 'dt_model.sav'\n",
        "ab_fileModel = path + 'ab_model.sav'\n",
        "\n",
        "pickle.dump(NB, open(nb_fileModel, 'wb'))\n",
        "pickle.dump(sv, open(sv_fileModel, 'wb'))\n",
        "pickle.dump(dt, open(dt_fileModel, 'wb'))\n",
        "pickle.dump(ab, open(ab_fileModel, 'wb'))"
      ]
    },
    {
      "cell_type": "code",
      "execution_count": null,
      "metadata": {
        "colab": {
          "base_uri": "https://localhost:8080/"
        },
        "id": "HPJERbUb19mg",
        "outputId": "59019441-fa84-4343-e159-02e9b82bea92"
      },
      "outputs": [],
      "source": [
        "nb_loaded_model = pickle.load(open(nb_fileModel, 'rb'))\n",
        "sv_loaded_model = pickle.load(open(sv_fileModel, 'rb'))\n",
        "dt_loaded_model = pickle.load(open(dt_fileModel, 'rb'))\n",
        "ab_loaded_model = pickle.load(open(ab_fileModel, 'rb'))\n",
        "\n",
        "# Predicting the Test set results\n",
        "nb_pred = nb_loaded_model.predict(X_test)\n",
        "print(\"MultinomialNB: \", nb_loaded_model.score(X_test, y_test))\n",
        "\n",
        "sv_pred = sv_loaded_model.predict(X_test)\n",
        "print(\"SVC: \", sv_loaded_model.score(X_test, y_test))\n",
        "\n",
        "dt_pred = dt_loaded_model.predict(X_test)\n",
        "print(\"DecisionTreeClassifier: \", dt_loaded_model.score(X_test, y_test))\n",
        "\n",
        "ab_pred = ab_loaded_model.predict(X_test)\n",
        "print(\"AdaBoostClassifier: \", ab_loaded_model.score(X_test, y_test))"
      ]
    }
  ],
  "metadata": {
    "colab": {
      "collapsed_sections": [
        "oTtKtVri19mP"
      ],
      "provenance": [],
      "toc_visible": true
    },
    "kernelspec": {
      "display_name": "Python 3.7.13 64-bit",
      "language": "python",
      "name": "python3"
    },
    "language_info": {
      "codemirror_mode": {
        "name": "ipython",
        "version": 3
      },
      "file_extension": ".py",
      "mimetype": "text/x-python",
      "name": "python",
      "nbconvert_exporter": "python",
      "pygments_lexer": "ipython3",
      "version": "3.7.14"
    },
    "orig_nbformat": 4,
    "vscode": {
      "interpreter": {
        "hash": "e5030792b3492f6b12d94f1f48beca3d8e59ec05fd59d0aaaa48e684281ed297"
      }
    }
  },
  "nbformat": 4,
  "nbformat_minor": 0
}

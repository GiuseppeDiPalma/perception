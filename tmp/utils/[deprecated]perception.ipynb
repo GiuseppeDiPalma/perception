{
 "cells": [
  {
   "cell_type": "markdown",
   "metadata": {},
   "source": [
    "### TO-DO\n",
    "----------\n",
    "Modello:\n",
    "- ~~k-Cross-validation~~\n",
    "- ~~ridistribuire-dati (10 sospetto 10 non-sospetto)~~\n",
    "  - ~~questo devo lavorare sui dati dal di fuori con uno script python, cercare di prendere dati 50/50~~\n",
    "- ~~random-under-sampler~~\n",
    "- ~~serializzare il modello - pickle~~\n",
    "\n",
    "Estensione:\n",
    "- salvare anche i dati che leggo\n",
    "- in modo da costruire statistiche\n"
   ]
  },
  {
   "cell_type": "markdown",
   "metadata": {},
   "source": [
    "# 🦚 Perception\n",
    "Detecting suspicious communication specificly (cyber bulling, threatning, terirosim ) from any type of txt data\n",
    "\n",
    "**Important notes:**\n",
    "\n",
    "- *NLTK* is a leading platform for building Python programs to work with human language data. The Natural Language Toolkit (NLTK) is an open source Python library for Natural Language Processing.\n",
    "\n",
    "- *sklearn* is a free software machine learning library for the Python programming language, it features various classification, regression and clustering algorithms including support vector machines, random forests, gradient boosting, k-means and DBSCAN.\n",
    "\n",
    "- *Seaborn* is a Python data visualization library based on matplotlib.\n",
    "\n",
    "- *pandas* \n",
    "\n",
    "- *numpy*"
   ]
  },
  {
   "cell_type": "code",
   "execution_count": 1,
   "metadata": {},
   "outputs": [
    {
     "name": "stdout",
     "output_type": "stream",
     "text": [
      "data/dataset/nytimes.csv\n",
      "data/dataset/suspicious-tweets.csv\n",
      "data/dataset/result.csv\n",
      "data/dataset/guardian.csv\n"
     ]
    }
   ],
   "source": [
    "import numpy as np\n",
    "import pandas as pd\n",
    "import nltk\n",
    "from nltk.stem import PorterStemmer\n",
    "from sklearn.feature_extraction.text import CountVectorizer\n",
    "from sklearn.feature_extraction.text import TfidfTransformer\n",
    "from sklearn.model_selection import train_test_split\n",
    "from sklearn.metrics import classification_report,confusion_matrix\n",
    "import seaborn as sns\n",
    "from nltk.corpus import stopwords\n",
    "import pickle\n",
    "import matplotlib.pyplot as plt\n",
    "\n",
    "import re, os\n",
    "for dirname, _, filenames in os.walk('data/dataset'):\n",
    "    for filename in filenames:\n",
    "        print(os.path.join(dirname, filename))"
   ]
  },
  {
   "cell_type": "markdown",
   "metadata": {},
   "source": [
    "## 📜 Data"
   ]
  },
  {
   "cell_type": "code",
   "execution_count": 2,
   "metadata": {},
   "outputs": [
    {
     "data": {
      "text/html": [
       "<div>\n",
       "<style scoped>\n",
       "    .dataframe tbody tr th:only-of-type {\n",
       "        vertical-align: middle;\n",
       "    }\n",
       "\n",
       "    .dataframe tbody tr th {\n",
       "        vertical-align: top;\n",
       "    }\n",
       "\n",
       "    .dataframe thead tr th {\n",
       "        text-align: left;\n",
       "    }\n",
       "\n",
       "    .dataframe thead tr:last-of-type th {\n",
       "        text-align: right;\n",
       "    }\n",
       "</style>\n",
       "<table border=\"1\" class=\"dataframe\">\n",
       "  <thead>\n",
       "    <tr>\n",
       "      <th></th>\n",
       "      <th colspan=\"4\" halign=\"left\">message</th>\n",
       "    </tr>\n",
       "    <tr>\n",
       "      <th></th>\n",
       "      <th>count</th>\n",
       "      <th>unique</th>\n",
       "      <th>top</th>\n",
       "      <th>freq</th>\n",
       "    </tr>\n",
       "    <tr>\n",
       "      <th>label</th>\n",
       "      <th></th>\n",
       "      <th></th>\n",
       "      <th></th>\n",
       "      <th></th>\n",
       "    </tr>\n",
       "  </thead>\n",
       "  <tbody>\n",
       "    <tr>\n",
       "      <th>0</th>\n",
       "      <td>6145</td>\n",
       "      <td>6133</td>\n",
       "      <td>Sick  Good thing its the weekend</td>\n",
       "      <td>2</td>\n",
       "    </tr>\n",
       "    <tr>\n",
       "      <th>1</th>\n",
       "      <td>53855</td>\n",
       "      <td>53574</td>\n",
       "      <td>#NAME?</td>\n",
       "      <td>7</td>\n",
       "    </tr>\n",
       "  </tbody>\n",
       "</table>\n",
       "</div>"
      ],
      "text/plain": [
       "      message                                               \n",
       "        count unique                                top freq\n",
       "label                                                       \n",
       "0        6145   6133  Sick  Good thing its the weekend     2\n",
       "1       53855  53574                             #NAME?    7"
      ]
     },
     "execution_count": 2,
     "metadata": {},
     "output_type": "execute_result"
    }
   ],
   "source": [
    "df = pd.read_csv('data/dataset/suspicious-tweets.csv')\n",
    "\n",
    "df.groupby('label').describe()"
   ]
  },
  {
   "cell_type": "code",
   "execution_count": null,
   "metadata": {},
   "outputs": [],
   "source": [
    "# Count the number of characters in each message\n",
    "df['length'] = df['message'].apply(len)\n",
    "df.head()"
   ]
  },
  {
   "cell_type": "code",
   "execution_count": null,
   "metadata": {},
   "outputs": [],
   "source": [
    "# Use for pre-test only 11 number of elements!\n",
    "df_labels = df['label']\n",
    "df_labels.head()"
   ]
  },
  {
   "cell_type": "markdown",
   "metadata": {},
   "source": [
    "### Data representation"
   ]
  },
  {
   "cell_type": "code",
   "execution_count": 3,
   "metadata": {},
   "outputs": [
    {
     "name": "stdout",
     "output_type": "stream",
     "text": [
      "Suspicious:  6145\n",
      "Non-Suspicious:  53855\n"
     ]
    },
    {
     "data": {
      "image/png": "[encoded data removed]",
      "text/plain": [
       "<Figure size 640x480 with 1 Axes>"
      ]
     },
     "metadata": {},
     "output_type": "display_data"
    }
   ],
   "source": [
    "# Only for hinstogram\n",
    "count_Class = pd.value_counts(df.label, sort = True)\n",
    "print(\"Suspicious: \", count_Class[0])\n",
    "print(\"Non-Suspicious: \", count_Class[1])\n",
    "\n",
    "# Data\n",
    "labels = '[0]suspicious', '[1]non-suspicious'\n",
    "sizes = [count_Class[0], count_Class[1]]\n",
    "colors = ['red', 'skyblue']\n",
    "explode = (0.1, 0.1)\n",
    "\n",
    "\n",
    "plt.pie(sizes, explode = explode, labels = labels, colors = colors,\n",
    "        autopct = '%1.1f%%', shadow = True, startangle = 90)\n",
    "plt.axis('equal')\n",
    "plt.show()"
   ]
  },
  {
   "cell_type": "markdown",
   "metadata": {},
   "source": [
    "### Data cleaning\n",
    "\n",
    "**Important notes:**\n",
    "- The *Porter stemming* algorithm (or 'Porter stemmer') is a process for removing the commoner morphological and inflexional endings from words in English. Its main use is as part of a term normalisation process that is usually done when setting up Information Retrieval systems."
   ]
  },
  {
   "cell_type": "code",
   "execution_count": null,
   "metadata": {},
   "outputs": [],
   "source": [
    "# Preprocess text and clean string\n",
    "def preprocess_text(sen):\n",
    "    sentence = re.sub('(https?:\\/\\/)?([\\da-z\\.-]+)\\.([a-z\\.]{2,6})([\\/\\w \\.-]*)',' ',sen) # Removing html tags\n",
    "    sentence = re.sub('[^a-zA-Z]', ' ', sentence) # Remove punctuations and numbers\n",
    "    sentence = re.sub(r\"\\s+[a-zA-Z]\\s+\", ' ', sentence) # Single character removal\n",
    "    sentence = re.sub(r'\\s+', ' ', sentence) # Removing multiple spaces\n",
    "    sentence = sentence.replace(\"ain't\", \"am not\").replace(\"aren't\", \"are not\")\n",
    "    sentence = ' '.join(text.lower() for text in sentence.split(' ')) # Lowering cases\n",
    "    sw = stopwords.words('english')\n",
    "    sentence = ' '.join(text for text in sentence.split() if text not in sw) #removing stopwords\n",
    "    #sentence = ' '.join(text.lemmatize() for text in sentence.split()) #lemmatization\n",
    "    return sentence"
   ]
  },
  {
   "cell_type": "code",
   "execution_count": null,
   "metadata": {},
   "outputs": [],
   "source": [
    "# Save in message, clean text\n",
    "df['message'] = df.message.apply(preprocess_text)\n",
    "# Tokenization each text\n",
    "df['message'] = df['message'].apply(nltk.word_tokenize)\n",
    "\n",
    "stemmer = PorterStemmer()\n",
    "df['message'] = df['message'].apply(lambda x: [stemmer.stem(y) for y in x])"
   ]
  },
  {
   "cell_type": "code",
   "execution_count": null,
   "metadata": {},
   "outputs": [],
   "source": [
    "# is upset that he can't update his Facebook by texting it... and might cry as a result  School today also. Blah!\n",
    "# -> ['upset', 'updat', 'facebook', 'text', 'might', 'cri', 'result', 'school', 'today', 'blah']\n",
    "show = df['message']\n",
    "show.head()"
   ]
  },
  {
   "cell_type": "markdown",
   "metadata": {},
   "source": [
    "### Data processing\n",
    "**Important notes:**\n",
    "- *CountVectorizer* Convert a collection of text documents to a matrix of token counts. This implementation produces a sparse representation of the counts using scipy.sparse.csr_matrix. If you do not provide an a-priori dictionary and you do not use an analyzer that does some kind of feature selection then the number of features will be equal to the vocabulary size found by analyzing the data.\n",
    "\n",
    "- *TfidfTransformer* Transform a count matrix to a normalized tf or tf-idf representation. Tf means term-frequency while tf-idf means term-frequency times inverse document-frequency. This is a common term weighting scheme in information retrieval, that has also found good use in document classification. The goal of using tf-idf instead of the raw frequencies of occurrence of a token in a given document is to scale down the impact of tokens that occur very frequently in a given corpus and that are hence empirically less informative than features that occur in a small fraction of the training corpus."
   ]
  },
  {
   "cell_type": "code",
   "execution_count": null,
   "metadata": {},
   "outputs": [],
   "source": [
    "df['message'] = df['message'].apply(lambda x: ' '.join(x))\n",
    "\n",
    "# Convert a collection of text documents to a matrix of token counts.\n",
    "count_vect = CountVectorizer()\n",
    "counts = count_vect.fit_transform(df['message']);"
   ]
  },
  {
   "cell_type": "code",
   "execution_count": null,
   "metadata": {},
   "outputs": [],
   "source": [
    "transformer = TfidfTransformer().fit(counts)\n",
    "counts = transformer.fit_transform(counts)"
   ]
  },
  {
   "cell_type": "markdown",
   "metadata": {},
   "source": [
    "### Data split"
   ]
  },
  {
   "cell_type": "code",
   "execution_count": null,
   "metadata": {},
   "outputs": [],
   "source": [
    "# Separe dataset in traning and test(30%)\n",
    "X_train, X_test, y_train, y_test = train_test_split(counts, df['label'], test_size=0.3, random_state=69)"
   ]
  },
  {
   "cell_type": "markdown",
   "metadata": {},
   "source": [
    "## Random under sampling\n",
    "\n",
    "Random Oversampling\n",
    "- not majority = resample all classes but the majority class\n",
    "\n",
    "Random Undersampling\n",
    "- not minority = resample all classes but the minority class"
   ]
  },
  {
   "cell_type": "code",
   "execution_count": null,
   "metadata": {},
   "outputs": [],
   "source": [
    "from imblearn.under_sampling import RandomUnderSampler\n",
    "\n",
    "rus = RandomUnderSampler(sampling_strategy=\"not minority\") # Numerical value\n",
    "\n",
    "X_resample, y_resample = rus.fit_resample(X_train, y_train)\n",
    "\n",
    "ax = y_resample.value_counts().plot.pie(autopct='%1.1f%%')\n",
    "\n",
    "_ = ax.set_title(\"Under-sampling\")\n",
    "\n",
    "y_resample.value_counts()"
   ]
  },
  {
   "cell_type": "markdown",
   "metadata": {},
   "source": [
    "## 🐱‍🏍 Learning models\n",
    "\n",
    "### Naive bayes and evaluation\n",
    "\n",
    "**Impotant notes:**\n",
    "- Compute *confusion matrix* to evaluate the accuracy of a classification."
   ]
  },
  {
   "cell_type": "code",
   "execution_count": null,
   "metadata": {},
   "outputs": [],
   "source": [
    "from sklearn.naive_bayes import MultinomialNB\n",
    "from sklearn.svm import SVC\n",
    "from sklearn.tree import DecisionTreeClassifier\n",
    "from sklearn.ensemble import AdaBoostClassifier\n",
    "\n",
    "from sklearn.metrics import accuracy_score"
   ]
  },
  {
   "cell_type": "code",
   "execution_count": null,
   "metadata": {},
   "outputs": [],
   "source": [
    "# implementing naive bayes\n",
    "NB = MultinomialNB().fit(X_train, y_train)\n",
    "\n",
    "predicted = NB.predict(X_test)\n",
    "print(np.mean(predicted == y_test))"
   ]
  },
  {
   "cell_type": "code",
   "execution_count": null,
   "metadata": {},
   "outputs": [],
   "source": [
    "# Confronto etichette corrette dei dati di test (y) con le risposte elaborate dal programma (predicted).\n",
    "error = accuracy_score(y_test, predicted)\n",
    "print(f\"Accuracy: {error}\")"
   ]
  },
  {
   "cell_type": "code",
   "execution_count": null,
   "metadata": {},
   "outputs": [],
   "source": [
    "report = classification_report(y_test,predicted)\n",
    "print(report)"
   ]
  },
  {
   "cell_type": "code",
   "execution_count": null,
   "metadata": {},
   "outputs": [],
   "source": [
    "# Compute confusion matrix to evaluate the accuracy of a classification\n",
    "print(confusion_matrix(y_test, predicted))"
   ]
  },
  {
   "cell_type": "markdown",
   "metadata": {},
   "source": [
    "### SVC\n",
    "C-Support Vector Classification. The implementation is based on libsvm. The fit time scales at least quadratically with the number of samples and may be impractical beyond tens of thousands of samples."
   ]
  },
  {
   "cell_type": "code",
   "execution_count": null,
   "metadata": {},
   "outputs": [],
   "source": [
    "# implementing SVM\n",
    "sv = SVC().fit(X_train, y_train)\n",
    "\n",
    "predicted = sv.predict(X_test)\n",
    "print(np.mean(predicted == y_test))"
   ]
  },
  {
   "cell_type": "code",
   "execution_count": null,
   "metadata": {},
   "outputs": [],
   "source": [
    "print(classification_report(y_test,predicted))"
   ]
  },
  {
   "cell_type": "code",
   "execution_count": null,
   "metadata": {},
   "outputs": [],
   "source": [
    "print(confusion_matrix(y_test, predicted))"
   ]
  },
  {
   "cell_type": "markdown",
   "metadata": {},
   "source": [
    "### Decision tree classifier\n",
    "Decision tree builds classification or regression models in the form of a tree structure. It breaks down a dataset into smaller and smaller subsets while at the same time an associated decision tree is incrementally developed. The final result is a tree with decision nodes and leaf nodes."
   ]
  },
  {
   "cell_type": "code",
   "execution_count": null,
   "metadata": {},
   "outputs": [],
   "source": [
    "# implementing disession tree\n",
    "dt = DecisionTreeClassifier().fit(X_train, y_train)\n",
    "\n",
    "predicted = dt.predict(X_test)\n",
    "print(np.mean(predicted == y_test))"
   ]
  },
  {
   "cell_type": "code",
   "execution_count": null,
   "metadata": {},
   "outputs": [],
   "source": [
    "print(classification_report(y_test,predicted))"
   ]
  },
  {
   "cell_type": "code",
   "execution_count": null,
   "metadata": {},
   "outputs": [],
   "source": [
    "print(confusion_matrix(y_test, predicted))"
   ]
  },
  {
   "cell_type": "markdown",
   "metadata": {},
   "source": [
    "### An AdaBoost classifier\n",
    "An AdaBoost classifier is a meta-estimator that begins by fitting a classifier on the original dataset and then fits additional copies of the classifier on the same dataset but where the weights of incorrectly classified instances are adjusted such that subsequent classifiers focus more on difficult cases.\n",
    "\n",
    "This class implements the algorithm known as AdaBoost-SAMME."
   ]
  },
  {
   "cell_type": "code",
   "execution_count": null,
   "metadata": {},
   "outputs": [],
   "source": [
    "# implementing adabost\n",
    "ab = AdaBoostClassifier().fit(X_train, y_train)\n",
    "\n",
    "predicted = ab.predict(X_test)\n",
    "print(np.mean(predicted == y_test))"
   ]
  },
  {
   "cell_type": "code",
   "execution_count": null,
   "metadata": {},
   "outputs": [],
   "source": [
    "print(classification_report(y_test,predicted))"
   ]
  },
  {
   "cell_type": "code",
   "execution_count": null,
   "metadata": {},
   "outputs": [],
   "source": [
    "print(confusion_matrix(y_test, predicted))"
   ]
  },
  {
   "cell_type": "markdown",
   "metadata": {},
   "source": [
    "## 📊 Finalize learning\n",
    "\n",
    "**Important notes:**\n",
    "- **Transform** documents to document-term matrix. Extract token counts out of raw text documents using the vocabulary fitted with fit or the one provided to the constructor.\n",
    "\n",
    "- **Predict** class or regression value for X. For a classification model, the predicted class for each sample in X is returned. For a regression model, the predicted value based on X is returned."
   ]
  },
  {
   "cell_type": "code",
   "execution_count": null,
   "metadata": {},
   "outputs": [],
   "source": [
    "# converting content to lower case\n",
    "pred = (df['message'].str.lower())\n",
    "# printing predictions made by model\n",
    "print(\"prediction: {}\". format(dt.predict(count_vect.transform(pred.values.astype('U')))))\n",
    "# saving predictions in a variable\n",
    "my_pred = dt.predict(count_vect.transform(pred.values.astype('U')))\n",
    "\n",
    "# saving predicted labels in .csv file\n",
    "df['autotag'] = my_pred\n",
    "df.to_csv('data/dataset/result.csv',index = False)"
   ]
  },
  {
   "cell_type": "markdown",
   "metadata": {},
   "source": [
    "## 📊 Valutate and results"
   ]
  },
  {
   "cell_type": "code",
   "execution_count": null,
   "metadata": {},
   "outputs": [],
   "source": [
    "# getting the number of -ve , +ve  predictions \n",
    "positive = 0\n",
    "negative = 0\n",
    "\n",
    "for v in my_pred:\n",
    " if (v == 1):\n",
    "  positive += 1\n",
    " elif (v == 0):\n",
    "  negative += 1"
   ]
  },
  {
   "cell_type": "code",
   "execution_count": null,
   "metadata": {},
   "outputs": [],
   "source": [
    "# function for quality measurement (can be set to required parameters)\n",
    "def quality(pos,total):\n",
    "    if((pos*100)/total >= 0 and (pos*100)/total <=24 ):\n",
    "        print('Quality: Very Negative')\n",
    "    elif((pos*100)/total >= 25 and (pos*100)/total <=49 ):\n",
    "        print('Quality: Negative')\n",
    "    elif((pos*100)/total >= 50 and (pos*100)/total <=74 ):\n",
    "        print('Quality: Positive')\n",
    "    elif((pos*100)/total >= 75 and (pos*100)/total <=100 ):\n",
    "        print('Quality: Very Positive')"
   ]
  },
  {
   "cell_type": "code",
   "execution_count": null,
   "metadata": {},
   "outputs": [],
   "source": [
    "# importing library to plot charts\n",
    "import matplotlib.pyplot as plt \n",
    "  \n",
    "# x-coordinates of left sides of bars  \n",
    "left = [100, 200] \n",
    "  \n",
    "# heights of bars \n",
    "height = [positive,negative]\n",
    "  \n",
    "# labels for bars \n",
    "tick_label = ['Positive', 'Negative'] \n",
    "  \n",
    "# plotting a bar chart \n",
    "plt.bar(left, height, tick_label = tick_label, width = 80, color = ['green','blue']) \n",
    "  \n",
    "# naming the x-axis \n",
    "plt.xlabel('Sentiment') \n",
    "# naming the y-axis \n",
    "plt.ylabel('Reviews') \n",
    "# plot title \n",
    "plt.title('Hate Speech Detection') \n",
    "  \n",
    "# function to show the plot \n",
    "plt.show() \n",
    "print (\"Sentiment - Positive: \"+str(positive)+\", Negative: \"+str(negative))\n",
    "quality(positive,(positive+negative))"
   ]
  },
  {
   "cell_type": "code",
   "execution_count": null,
   "metadata": {},
   "outputs": [],
   "source": [
    "# getting negativity \n",
    "negativeity = (negative*100)/(positive+negative)\n",
    "positivity = (positive*100)/(positive+negative)\n",
    "print(\"Negativeity: \"+str(negativeity)+\"%\")\n",
    "print(\"Positivity: \"+str(positivity)+\"%\")"
   ]
  },
  {
   "cell_type": "markdown",
   "metadata": {},
   "source": [
    "## 💡 Random Oversampling"
   ]
  },
  {
   "cell_type": "code",
   "execution_count": null,
   "metadata": {},
   "outputs": [],
   "source": [
    "# implementing naive bayes\n",
    "NB = MultinomialNB().fit(X_resample, y_resample)\n",
    "\n",
    "predicted = NB.predict(X_test)\n",
    "print(np.mean(predicted == y_test))\n",
    "\n",
    "# implementing SVM\n",
    "sv = SVC().fit(X_resample, y_resample)\n",
    "\n",
    "predicted = sv.predict(X_test)\n",
    "print(np.mean(predicted == y_test))\n",
    "\n",
    "# implementing disession tree\n",
    "dt = DecisionTreeClassifier().fit(X_resample, y_resample)\n",
    "\n",
    "predicted = dt.predict(X_test)\n",
    "print(np.mean(predicted == y_test))\n",
    "\n",
    "# implementing adabost\n",
    "ab = AdaBoostClassifier().fit(X_resample, y_resample)\n",
    "\n",
    "predicted = ab.predict(X_test)\n",
    "print(np.mean(predicted == y_test))"
   ]
  },
  {
   "cell_type": "markdown",
   "metadata": {},
   "source": [
    "## 💡 K-fold cross-validation"
   ]
  },
  {
   "cell_type": "code",
   "execution_count": null,
   "metadata": {},
   "outputs": [],
   "source": [
    "# Implement K fold cross-validation\n",
    "from sklearn.model_selection import cross_val_score\n",
    "nb_accuracy = cross_val_score(estimator = NB, X = X_train, y = y_train, cv = 5)\n",
    "print(\"[nb] Accuracy: {:.2f} %\".format(nb_accuracy.mean()*100))\n",
    "print(\"[nb] Standard Deviation: {:.2f} %\".format(nb_accuracy.std()*100))\n",
    "\n",
    "sv_accuracy = cross_val_score(estimator = sv, X = X_train, y = y_train, cv = 5)\n",
    "print(\"[sv] Accuracy: {:.2f} %\".format(sv_accuracy.mean()*100))\n",
    "print(\"[sv] Standard Deviation: {:.2f} %\".format(sv_accuracy.std()*100))\n",
    "\n",
    "dt_accuracies = cross_val_score(estimator = dt, X = X_train, y = y_train, cv = 5)\n",
    "print(\"[dt] Accuracy: {:.2f} %\".format(dt_accuracies.mean()*100))\n",
    "print(\"[dt] Standard Deviation: {:.2f} %\".format(dt_accuracies.std()*100))\n",
    "\n",
    "ab_accuracies = cross_val_score(estimator = ab, X = X_train, y = y_train, cv = 5)\n",
    "print(\"[ab] Accuracy: {:.2f} %\".format(ab_accuracies.mean()*100))\n",
    "print(\"[ab] Standard Deviation: {:.2f} %\".format(ab_accuracies.std()*100))"
   ]
  },
  {
   "cell_type": "markdown",
   "metadata": {},
   "source": [
    "## 💡 Pickle model and show score"
   ]
  },
  {
   "cell_type": "code",
   "execution_count": null,
   "metadata": {},
   "outputs": [],
   "source": [
    "# NB = MultinomialNB().fit(X_train, y_train)\n",
    "# sv = SVC().fit(X_train, y_train)\n",
    "# dt = DecisionTreeClassifier().fit(X_train, y_train)\n",
    "# ab = AdaBoostClassifier().fit(X_train, y_train)\n",
    "\n",
    "nb_fileModel = 'data/modelSave/nb_model.sav'\n",
    "sv_fileModel = 'data/modelSave/sv_model.sav'\n",
    "dt_fileModel = 'data/modelSave/dt_model.sav'\n",
    "ab_fileModel = 'data/modelSave/ab_model.sav'\n",
    "\n",
    "pickle.dump(NB, open(nb_fileModel, 'wb'))\n",
    "pickle.dump(sv, open(sv_fileModel, 'wb'))\n",
    "pickle.dump(dt, open(dt_fileModel, 'wb'))\n",
    "pickle.dump(ab, open(ab_fileModel, 'wb'))\n"
   ]
  },
  {
   "cell_type": "code",
   "execution_count": null,
   "metadata": {},
   "outputs": [],
   "source": [
    "nb_loaded_model = pickle.load(open(nb_fileModel, 'rb'))\n",
    "sv_loaded_model = pickle.load(open(sv_fileModel, 'rb'))\n",
    "dt_loaded_model = pickle.load(open(dt_fileModel, 'rb'))\n",
    "ab_loaded_model = pickle.load(open(ab_fileModel, 'rb'))\n",
    "\n",
    "# Predicting the Test set results\n",
    "nb_pred = nb_loaded_model.predict(X_test)\n",
    "print(\"MultinomialNB: \", nb_loaded_model.score(X_test, y_test))\n",
    "\n",
    "sv_pred = sv_loaded_model.predict(X_test)\n",
    "print(\"SVC: \", sv_loaded_model.score(X_test, y_test))\n",
    "\n",
    "dt_pred = dt_loaded_model.predict(X_test)\n",
    "print(\"DecisionTreeClassifier: \", dt_loaded_model.score(X_test, y_test))\n",
    "\n",
    "ab_pred = ab_loaded_model.predict(X_test)\n",
    "print(\"AdaBoostClassifier: \", ab_loaded_model.score(X_test, y_test))"
   ]
  }
 ],
 "metadata": {
  "kernelspec": {
   "display_name": "Python 3.7.13 64-bit",
   "language": "python",
   "name": "python3"
  },
  "language_info": {
   "codemirror_mode": {
    "name": "ipython",
    "version": 3
   },
   "file_extension": ".py",
   "mimetype": "text/x-python",
   "name": "python",
   "nbconvert_exporter": "python",
   "pygments_lexer": "ipython3",
   "version": "3.7.14"
  },
  "orig_nbformat": 4,
  "vscode": {
   "interpreter": {
    "hash": "e5030792b3492f6b12d94f1f48beca3d8e59ec05fd59d0aaaa48e684281ed297"
   }
  }
 },
 "nbformat": 4,
 "nbformat_minor": 2
}
